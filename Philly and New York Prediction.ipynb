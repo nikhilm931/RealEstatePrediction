{
 "cells": [
  {
   "cell_type": "markdown",
   "id": "eea961b2",
   "metadata": {
    "id": "eea961b2"
   },
   "source": [
    "## The Data\n",
    "\n",
    "The first dataset is one from kaggle (https://www.kaggle.com/datasets/ahmedshahriarsakib/usa-real-estate-dataset), comprised of recent real estate listings from across the United States."
   ]
  },
  {
   "cell_type": "code",
   "execution_count": 13,
   "id": "20c87c09",
   "metadata": {
    "executionInfo": {
     "elapsed": 327,
     "status": "ok",
     "timestamp": 1678246051990,
     "user": {
      "displayName": "Rohan Ukkalam",
      "userId": "06420766959062389728"
     },
     "user_tz": 300
    },
    "id": "20c87c09"
   },
   "outputs": [],
   "source": [
    "# !pip install geopy"
   ]
  },
  {
   "cell_type": "code",
   "execution_count": 1,
   "id": "bec5f4ae",
   "metadata": {
    "executionInfo": {
     "elapsed": 9,
     "status": "ok",
     "timestamp": 1678246052165,
     "user": {
      "displayName": "Rohan Ukkalam",
      "userId": "06420766959062389728"
     },
     "user_tz": 300
    },
    "id": "bec5f4ae"
   },
   "outputs": [],
   "source": [
    "import pandas as pd\n",
    "import missingno as msno\n",
    "import geopy\n",
    "import numpy as np\n",
    "import seaborn as sns\n",
    "from matplotlib import pyplot as plt\n",
    "import datetime"
   ]
  },
  {
   "cell_type": "code",
   "execution_count": 2,
   "id": "c29d5733",
   "metadata": {
    "executionInfo": {
     "elapsed": 10,
     "status": "ok",
     "timestamp": 1678246052167,
     "user": {
      "displayName": "Rohan Ukkalam",
      "userId": "06420766959062389728"
     },
     "user_tz": 300
    },
    "id": "c29d5733"
   },
   "outputs": [],
   "source": [
    "from scipy.stats import pearsonr\n",
    "from scipy.stats import spearmanr"
   ]
  },
  {
   "cell_type": "code",
   "execution_count": 3,
   "id": "eb1f0547",
   "metadata": {
    "executionInfo": {
     "elapsed": 11,
     "status": "ok",
     "timestamp": 1678246052168,
     "user": {
      "displayName": "Rohan Ukkalam",
      "userId": "06420766959062389728"
     },
     "user_tz": 300
    },
    "id": "eb1f0547"
   },
   "outputs": [],
   "source": [
    "from sklearn.preprocessing import LabelEncoder"
   ]
  },
  {
   "cell_type": "code",
   "execution_count": 17,
   "id": "64fdae1d",
   "metadata": {
    "executionInfo": {
     "elapsed": 12,
     "status": "ok",
     "timestamp": 1678246052170,
     "user": {
      "displayName": "Rohan Ukkalam",
      "userId": "06420766959062389728"
     },
     "user_tz": 300
    },
    "id": "64fdae1d"
   },
   "outputs": [],
   "source": [
    "import tensorflow as tf\n",
    "from tensorflow import keras\n",
    "from sklearn.model_selection import train_test_split\n",
    "from sklearn.metrics import accuracy_score, confusion_matrix, ConfusionMatrixDisplay, mean_absolute_error, mean_squared_error\n",
    "from sklearn.preprocessing import StandardScaler, RobustScaler, MinMaxScaler"
   ]
  },
  {
   "cell_type": "code",
   "execution_count": 55,
   "id": "e39b3107",
   "metadata": {},
   "outputs": [],
   "source": [
    "from sklearn.model_selection import train_test_split\n",
    "from sklearn.metrics import accuracy_score, confusion_matrix, ConfusionMatrixDisplay, mean_absolute_error, mean_squared_error\n",
    "from sklearn.preprocessing import StandardScaler, RobustScaler, MinMaxScaler"
   ]
  },
  {
   "cell_type": "code",
   "execution_count": 56,
   "id": "e0656cb2",
   "metadata": {
    "colab": {
     "base_uri": "https://localhost:8080/"
    },
    "executionInfo": {
     "elapsed": 1016,
     "status": "ok",
     "timestamp": 1678246053174,
     "user": {
      "displayName": "Rohan Ukkalam",
      "userId": "06420766959062389728"
     },
     "user_tz": 300
    },
    "id": "e0656cb2",
    "outputId": "c66bb5b9-8007-470f-f9fd-948e02f68948"
   },
   "outputs": [
    {
     "ename": "ModuleNotFoundError",
     "evalue": "No module named 'google.colab'",
     "output_type": "error",
     "traceback": [
      "\u001b[0;31m---------------------------------------------------------------------------\u001b[0m",
      "\u001b[0;31mModuleNotFoundError\u001b[0m                       Traceback (most recent call last)",
      "\u001b[0;32m/var/folders/wn/7lns8n057cz4jzhzfv16rs_c0000gn/T/ipykernel_9888/1408506528.py\u001b[0m in \u001b[0;36m<module>\u001b[0;34m\u001b[0m\n\u001b[0;32m----> 1\u001b[0;31m \u001b[0;32mfrom\u001b[0m \u001b[0mgoogle\u001b[0m\u001b[0;34m.\u001b[0m\u001b[0mcolab\u001b[0m \u001b[0;32mimport\u001b[0m \u001b[0mdrive\u001b[0m\u001b[0;34m\u001b[0m\u001b[0;34m\u001b[0m\u001b[0m\n\u001b[0m\u001b[1;32m      2\u001b[0m \u001b[0mdrive\u001b[0m\u001b[0;34m.\u001b[0m\u001b[0mmount\u001b[0m\u001b[0;34m(\u001b[0m\u001b[0;34m'/content/drive'\u001b[0m\u001b[0;34m)\u001b[0m\u001b[0;34m\u001b[0m\u001b[0;34m\u001b[0m\u001b[0m\n",
      "\u001b[0;31mModuleNotFoundError\u001b[0m: No module named 'google.colab'"
     ]
    }
   ],
   "source": [
    "from google.colab import drive\n",
    "drive.mount('/content/drive')"
   ]
  },
  {
   "cell_type": "code",
   "execution_count": 9,
   "id": "b24e41ab",
   "metadata": {
    "colab": {
     "base_uri": "https://localhost:8080/",
     "height": 337
    },
    "executionInfo": {
     "elapsed": 2650,
     "status": "ok",
     "timestamp": 1678246055813,
     "user": {
      "displayName": "Rohan Ukkalam",
      "userId": "06420766959062389728"
     },
     "user_tz": 300
    },
    "id": "b24e41ab",
    "outputId": "98e0816a-eb19-44fd-f901-af0f94b613d2"
   },
   "outputs": [
    {
     "data": {
      "text/html": [
       "<div>\n",
       "<style scoped>\n",
       "    .dataframe tbody tr th:only-of-type {\n",
       "        vertical-align: middle;\n",
       "    }\n",
       "\n",
       "    .dataframe tbody tr th {\n",
       "        vertical-align: top;\n",
       "    }\n",
       "\n",
       "    .dataframe thead th {\n",
       "        text-align: right;\n",
       "    }\n",
       "</style>\n",
       "<table border=\"1\" class=\"dataframe\">\n",
       "  <thead>\n",
       "    <tr style=\"text-align: right;\">\n",
       "      <th></th>\n",
       "      <th>status</th>\n",
       "      <th>price</th>\n",
       "      <th>bed</th>\n",
       "      <th>bath</th>\n",
       "      <th>acre_lot</th>\n",
       "      <th>full_address</th>\n",
       "      <th>street</th>\n",
       "      <th>city</th>\n",
       "      <th>state</th>\n",
       "      <th>zip_code</th>\n",
       "      <th>house_size</th>\n",
       "      <th>sold_date</th>\n",
       "    </tr>\n",
       "  </thead>\n",
       "  <tbody>\n",
       "    <tr>\n",
       "      <th>0</th>\n",
       "      <td>for_sale</td>\n",
       "      <td>105000.0</td>\n",
       "      <td>3.0</td>\n",
       "      <td>2.0</td>\n",
       "      <td>0.12</td>\n",
       "      <td>Sector Yahuecas Titulo # V84, Adjuntas, PR, 00601</td>\n",
       "      <td>Sector Yahuecas Titulo # V84</td>\n",
       "      <td>Adjuntas</td>\n",
       "      <td>Puerto Rico</td>\n",
       "      <td>601.0</td>\n",
       "      <td>920.0</td>\n",
       "      <td>NaN</td>\n",
       "    </tr>\n",
       "    <tr>\n",
       "      <th>1</th>\n",
       "      <td>for_sale</td>\n",
       "      <td>80000.0</td>\n",
       "      <td>4.0</td>\n",
       "      <td>2.0</td>\n",
       "      <td>0.08</td>\n",
       "      <td>Km 78 9 Carr # 135, Adjuntas, PR, 00601</td>\n",
       "      <td>Km 78 9 Carr # 135</td>\n",
       "      <td>Adjuntas</td>\n",
       "      <td>Puerto Rico</td>\n",
       "      <td>601.0</td>\n",
       "      <td>1527.0</td>\n",
       "      <td>NaN</td>\n",
       "    </tr>\n",
       "    <tr>\n",
       "      <th>2</th>\n",
       "      <td>for_sale</td>\n",
       "      <td>67000.0</td>\n",
       "      <td>2.0</td>\n",
       "      <td>1.0</td>\n",
       "      <td>0.15</td>\n",
       "      <td>556G 556-G 16 St, Juana Diaz, PR, 00795</td>\n",
       "      <td>556G 556-G 16 St</td>\n",
       "      <td>Juana Diaz</td>\n",
       "      <td>Puerto Rico</td>\n",
       "      <td>795.0</td>\n",
       "      <td>748.0</td>\n",
       "      <td>NaN</td>\n",
       "    </tr>\n",
       "    <tr>\n",
       "      <th>3</th>\n",
       "      <td>for_sale</td>\n",
       "      <td>145000.0</td>\n",
       "      <td>4.0</td>\n",
       "      <td>2.0</td>\n",
       "      <td>0.10</td>\n",
       "      <td>R5 Comunidad El Paraso Calle De Oro R-5 Ponce,...</td>\n",
       "      <td>R5 Comunidad El Paraso Calle De Oro R-5 Ponce</td>\n",
       "      <td>Ponce</td>\n",
       "      <td>Puerto Rico</td>\n",
       "      <td>731.0</td>\n",
       "      <td>1800.0</td>\n",
       "      <td>NaN</td>\n",
       "    </tr>\n",
       "    <tr>\n",
       "      <th>4</th>\n",
       "      <td>for_sale</td>\n",
       "      <td>65000.0</td>\n",
       "      <td>6.0</td>\n",
       "      <td>2.0</td>\n",
       "      <td>0.05</td>\n",
       "      <td>14 Navarro, Mayaguez, PR, 00680</td>\n",
       "      <td>14 Navarro</td>\n",
       "      <td>Mayaguez</td>\n",
       "      <td>Puerto Rico</td>\n",
       "      <td>680.0</td>\n",
       "      <td>NaN</td>\n",
       "      <td>NaN</td>\n",
       "    </tr>\n",
       "  </tbody>\n",
       "</table>\n",
       "</div>"
      ],
      "text/plain": [
       "     status     price  bed  bath  acre_lot  \\\n",
       "0  for_sale  105000.0  3.0   2.0      0.12   \n",
       "1  for_sale   80000.0  4.0   2.0      0.08   \n",
       "2  for_sale   67000.0  2.0   1.0      0.15   \n",
       "3  for_sale  145000.0  4.0   2.0      0.10   \n",
       "4  for_sale   65000.0  6.0   2.0      0.05   \n",
       "\n",
       "                                        full_address  \\\n",
       "0  Sector Yahuecas Titulo # V84, Adjuntas, PR, 00601   \n",
       "1            Km 78 9 Carr # 135, Adjuntas, PR, 00601   \n",
       "2            556G 556-G 16 St, Juana Diaz, PR, 00795   \n",
       "3  R5 Comunidad El Paraso Calle De Oro R-5 Ponce,...   \n",
       "4                    14 Navarro, Mayaguez, PR, 00680   \n",
       "\n",
       "                                          street        city        state  \\\n",
       "0                   Sector Yahuecas Titulo # V84    Adjuntas  Puerto Rico   \n",
       "1                             Km 78 9 Carr # 135    Adjuntas  Puerto Rico   \n",
       "2                               556G 556-G 16 St  Juana Diaz  Puerto Rico   \n",
       "3  R5 Comunidad El Paraso Calle De Oro R-5 Ponce       Ponce  Puerto Rico   \n",
       "4                                     14 Navarro    Mayaguez  Puerto Rico   \n",
       "\n",
       "   zip_code  house_size sold_date  \n",
       "0     601.0       920.0       NaN  \n",
       "1     601.0      1527.0       NaN  \n",
       "2     795.0       748.0       NaN  \n",
       "3     731.0      1800.0       NaN  \n",
       "4     680.0         NaN       NaN  "
      ]
     },
     "execution_count": 9,
     "metadata": {},
     "output_type": "execute_result"
    }
   ],
   "source": [
    "# Jupyter\n",
    "#RunMode = 'Jupyter'\n",
    "#first_df = pd.read_csv(\"./datasets/realtor-data.csv\")\n",
    "\n",
    "# Google Colab\n",
    "#RunMode = 'Collab'\n",
    "first_df = pd.read_csv(\"./data/realtor-data.csv\")\n",
    "\n",
    "first_df.head()"
   ]
  },
  {
   "cell_type": "code",
   "execution_count": 10,
   "id": "17719b32",
   "metadata": {
    "executionInfo": {
     "elapsed": 220,
     "status": "ok",
     "timestamp": 1678246056024,
     "user": {
      "displayName": "Rohan Ukkalam",
      "userId": "06420766959062389728"
     },
     "user_tz": 300
    },
    "id": "17719b32"
   },
   "outputs": [],
   "source": [
    "first_df['sold_date'] = pd.to_datetime(first_df['sold_date'],\n",
    "                                format = '%Y-%m-%d',\n",
    "                                errors = 'coerce')"
   ]
  },
  {
   "cell_type": "code",
   "execution_count": 11,
   "id": "5640c246",
   "metadata": {
    "executionInfo": {
     "elapsed": 192,
     "status": "ok",
     "timestamp": 1678246056213,
     "user": {
      "displayName": "Rohan Ukkalam",
      "userId": "06420766959062389728"
     },
     "user_tz": 300
    },
    "id": "5640c246"
   },
   "outputs": [],
   "source": [
    "filter_mask = [city == \"Philadelphia\"  or city == \"New York\" for city in first_df[\"city\"]]\n",
    "\n",
    "#date >= dt.strptime(\"2018-09-01\", \"%Y-%m-%d\") for date in AAPL[\"Date\"]\n",
    "\n",
    "temp_df = first_df[filter_mask].copy()"
   ]
  },
  {
   "cell_type": "code",
   "execution_count": 12,
   "id": "f1339453",
   "metadata": {
    "colab": {
     "base_uri": "https://localhost:8080/",
     "height": 337
    },
    "executionInfo": {
     "elapsed": 917,
     "status": "ok",
     "timestamp": 1678246057123,
     "user": {
      "displayName": "Rohan Ukkalam",
      "userId": "06420766959062389728"
     },
     "user_tz": 300
    },
    "id": "f1339453",
    "outputId": "a352e90a-9ab9-4385-cafb-8406903b2667"
   },
   "outputs": [
    {
     "data": {
      "text/html": [
       "<div>\n",
       "<style scoped>\n",
       "    .dataframe tbody tr th:only-of-type {\n",
       "        vertical-align: middle;\n",
       "    }\n",
       "\n",
       "    .dataframe tbody tr th {\n",
       "        vertical-align: top;\n",
       "    }\n",
       "\n",
       "    .dataframe thead th {\n",
       "        text-align: right;\n",
       "    }\n",
       "</style>\n",
       "<table border=\"1\" class=\"dataframe\">\n",
       "  <thead>\n",
       "    <tr style=\"text-align: right;\">\n",
       "      <th></th>\n",
       "      <th>status</th>\n",
       "      <th>price</th>\n",
       "      <th>bed</th>\n",
       "      <th>bath</th>\n",
       "      <th>acre_lot</th>\n",
       "      <th>full_address</th>\n",
       "      <th>street</th>\n",
       "      <th>city</th>\n",
       "      <th>state</th>\n",
       "      <th>zip_code</th>\n",
       "      <th>house_size</th>\n",
       "      <th>sold_date</th>\n",
       "    </tr>\n",
       "  </thead>\n",
       "  <tbody>\n",
       "    <tr>\n",
       "      <th>465547</th>\n",
       "      <td>for_sale</td>\n",
       "      <td>899000.0</td>\n",
       "      <td>2.0</td>\n",
       "      <td>2.0</td>\n",
       "      <td>NaN</td>\n",
       "      <td>438 Clermont Ave Apt G, New York, NY, 11238</td>\n",
       "      <td>438 Clermont Ave Apt G</td>\n",
       "      <td>New York</td>\n",
       "      <td>New York</td>\n",
       "      <td>11238.0</td>\n",
       "      <td>NaN</td>\n",
       "      <td>2018-06-29</td>\n",
       "    </tr>\n",
       "    <tr>\n",
       "      <th>465602</th>\n",
       "      <td>for_sale</td>\n",
       "      <td>665000.0</td>\n",
       "      <td>1.0</td>\n",
       "      <td>1.0</td>\n",
       "      <td>NaN</td>\n",
       "      <td>66 Madison Ave Apt 8D, New York, NY, 10016</td>\n",
       "      <td>66 Madison Ave Apt 8D</td>\n",
       "      <td>New York</td>\n",
       "      <td>New York</td>\n",
       "      <td>10016.0</td>\n",
       "      <td>NaN</td>\n",
       "      <td>2019-10-17</td>\n",
       "    </tr>\n",
       "    <tr>\n",
       "      <th>465779</th>\n",
       "      <td>for_sale</td>\n",
       "      <td>2850000.0</td>\n",
       "      <td>3.0</td>\n",
       "      <td>2.0</td>\n",
       "      <td>NaN</td>\n",
       "      <td>470 W End Ave Unit 15B, New York, NY, 10024</td>\n",
       "      <td>470 W End Ave Unit 15B</td>\n",
       "      <td>New York</td>\n",
       "      <td>New York</td>\n",
       "      <td>10024.0</td>\n",
       "      <td>2018.0</td>\n",
       "      <td>2019-07-01</td>\n",
       "    </tr>\n",
       "    <tr>\n",
       "      <th>465783</th>\n",
       "      <td>for_sale</td>\n",
       "      <td>2650000.0</td>\n",
       "      <td>3.0</td>\n",
       "      <td>2.0</td>\n",
       "      <td>NaN</td>\n",
       "      <td>1150 Fifth Ave Unit 7D, New York, NY, 10129</td>\n",
       "      <td>1150 Fifth Ave Unit 7D</td>\n",
       "      <td>New York</td>\n",
       "      <td>New York</td>\n",
       "      <td>10129.0</td>\n",
       "      <td>NaN</td>\n",
       "      <td>2019-08-02</td>\n",
       "    </tr>\n",
       "    <tr>\n",
       "      <th>465810</th>\n",
       "      <td>for_sale</td>\n",
       "      <td>2325000.0</td>\n",
       "      <td>2.0</td>\n",
       "      <td>2.0</td>\n",
       "      <td>NaN</td>\n",
       "      <td>360 E 72nd St Apt B1209, New York, NY, 10021</td>\n",
       "      <td>360 E 72nd St Apt B1209</td>\n",
       "      <td>New York</td>\n",
       "      <td>New York</td>\n",
       "      <td>10021.0</td>\n",
       "      <td>NaN</td>\n",
       "      <td>2019-09-09</td>\n",
       "    </tr>\n",
       "  </tbody>\n",
       "</table>\n",
       "</div>"
      ],
      "text/plain": [
       "          status      price  bed  bath  acre_lot  \\\n",
       "465547  for_sale   899000.0  2.0   2.0       NaN   \n",
       "465602  for_sale   665000.0  1.0   1.0       NaN   \n",
       "465779  for_sale  2850000.0  3.0   2.0       NaN   \n",
       "465783  for_sale  2650000.0  3.0   2.0       NaN   \n",
       "465810  for_sale  2325000.0  2.0   2.0       NaN   \n",
       "\n",
       "                                        full_address                   street  \\\n",
       "465547   438 Clermont Ave Apt G, New York, NY, 11238   438 Clermont Ave Apt G   \n",
       "465602    66 Madison Ave Apt 8D, New York, NY, 10016    66 Madison Ave Apt 8D   \n",
       "465779   470 W End Ave Unit 15B, New York, NY, 10024   470 W End Ave Unit 15B   \n",
       "465783   1150 Fifth Ave Unit 7D, New York, NY, 10129   1150 Fifth Ave Unit 7D   \n",
       "465810  360 E 72nd St Apt B1209, New York, NY, 10021  360 E 72nd St Apt B1209   \n",
       "\n",
       "            city     state  zip_code  house_size  sold_date  \n",
       "465547  New York  New York   11238.0         NaN 2018-06-29  \n",
       "465602  New York  New York   10016.0         NaN 2019-10-17  \n",
       "465779  New York  New York   10024.0      2018.0 2019-07-01  \n",
       "465783  New York  New York   10129.0         NaN 2019-08-02  \n",
       "465810  New York  New York   10021.0         NaN 2019-09-09  "
      ]
     },
     "execution_count": 12,
     "metadata": {},
     "output_type": "execute_result"
    }
   ],
   "source": [
    "filter_mask1 = [date <= datetime.datetime.strptime(\"2020-01-01\", \"%Y-%m-%d\") \n",
    "                 and date >= datetime.datetime.strptime(\"2018-01-01\", \"%Y-%m-%d\")\n",
    "                 for date in temp_df[\"sold_date\"]]\n",
    "df = temp_df[filter_mask1].copy()\n",
    "df.head()"
   ]
  },
  {
   "cell_type": "code",
   "execution_count": 13,
   "id": "9f037b4f",
   "metadata": {
    "colab": {
     "base_uri": "https://localhost:8080/"
    },
    "executionInfo": {
     "elapsed": 543,
     "status": "ok",
     "timestamp": 1678246057657,
     "user": {
      "displayName": "Rohan Ukkalam",
      "userId": "06420766959062389728"
     },
     "user_tz": 300
    },
    "id": "9f037b4f",
    "outputId": "12504107-a55f-40b5-a063-a59ff99d5fce"
   },
   "outputs": [
    {
     "data": {
      "text/plain": [
       "(446, 12)"
      ]
     },
     "execution_count": 13,
     "metadata": {},
     "output_type": "execute_result"
    }
   ],
   "source": [
    "filter_mask2 = [date >= datetime.datetime.strptime(\"2022-01-01\", \"%Y-%m-%d\") for date in temp_df[\"sold_date\"]]\n",
    "valid_df = temp_df[filter_mask2].copy()\n",
    "valid_df.shape"
   ]
  },
  {
   "cell_type": "code",
   "execution_count": 14,
   "id": "6e875f52",
   "metadata": {
    "colab": {
     "base_uri": "https://localhost:8080/"
    },
    "executionInfo": {
     "elapsed": 357,
     "status": "ok",
     "timestamp": 1678246058007,
     "user": {
      "displayName": "Rohan Ukkalam",
      "userId": "06420766959062389728"
     },
     "user_tz": 300
    },
    "id": "6e875f52",
    "outputId": "84fa7b07-c9a0-4f85-c6e2-fbc67ef0abcf"
   },
   "outputs": [
    {
     "data": {
      "text/plain": [
       "(3986, 12)"
      ]
     },
     "execution_count": 14,
     "metadata": {},
     "output_type": "execute_result"
    }
   ],
   "source": [
    "df.shape"
   ]
  },
  {
   "cell_type": "code",
   "execution_count": 15,
   "id": "20c20213",
   "metadata": {
    "colab": {
     "base_uri": "https://localhost:8080/",
     "height": 300
    },
    "executionInfo": {
     "elapsed": 24,
     "status": "ok",
     "timestamp": 1678246058008,
     "user": {
      "displayName": "Rohan Ukkalam",
      "userId": "06420766959062389728"
     },
     "user_tz": 300
    },
    "id": "20c20213",
    "outputId": "c0e62460-94af-4238-d878-a9e545c728b7",
    "scrolled": true
   },
   "outputs": [
    {
     "data": {
      "text/html": [
       "<div>\n",
       "<style scoped>\n",
       "    .dataframe tbody tr th:only-of-type {\n",
       "        vertical-align: middle;\n",
       "    }\n",
       "\n",
       "    .dataframe tbody tr th {\n",
       "        vertical-align: top;\n",
       "    }\n",
       "\n",
       "    .dataframe thead th {\n",
       "        text-align: right;\n",
       "    }\n",
       "</style>\n",
       "<table border=\"1\" class=\"dataframe\">\n",
       "  <thead>\n",
       "    <tr style=\"text-align: right;\">\n",
       "      <th></th>\n",
       "      <th>price</th>\n",
       "      <th>bed</th>\n",
       "      <th>bath</th>\n",
       "      <th>acre_lot</th>\n",
       "      <th>zip_code</th>\n",
       "      <th>house_size</th>\n",
       "    </tr>\n",
       "  </thead>\n",
       "  <tbody>\n",
       "    <tr>\n",
       "      <th>count</th>\n",
       "      <td>3.986000e+03</td>\n",
       "      <td>3652.000000</td>\n",
       "      <td>3865.000000</td>\n",
       "      <td>977.000000</td>\n",
       "      <td>3986.000000</td>\n",
       "      <td>2526.000000</td>\n",
       "    </tr>\n",
       "    <tr>\n",
       "      <th>mean</th>\n",
       "      <td>1.381118e+06</td>\n",
       "      <td>2.084064</td>\n",
       "      <td>1.698836</td>\n",
       "      <td>0.034063</td>\n",
       "      <td>12412.452082</td>\n",
       "      <td>1361.787807</td>\n",
       "    </tr>\n",
       "    <tr>\n",
       "      <th>std</th>\n",
       "      <td>2.129804e+06</td>\n",
       "      <td>1.223032</td>\n",
       "      <td>0.919009</td>\n",
       "      <td>0.032356</td>\n",
       "      <td>3965.838227</td>\n",
       "      <td>904.536103</td>\n",
       "    </tr>\n",
       "    <tr>\n",
       "      <th>min</th>\n",
       "      <td>4.000000e+04</td>\n",
       "      <td>1.000000</td>\n",
       "      <td>1.000000</td>\n",
       "      <td>0.010000</td>\n",
       "      <td>10001.000000</td>\n",
       "      <td>323.000000</td>\n",
       "    </tr>\n",
       "    <tr>\n",
       "      <th>25%</th>\n",
       "      <td>5.000000e+05</td>\n",
       "      <td>1.000000</td>\n",
       "      <td>1.000000</td>\n",
       "      <td>0.020000</td>\n",
       "      <td>10014.000000</td>\n",
       "      <td>822.000000</td>\n",
       "    </tr>\n",
       "    <tr>\n",
       "      <th>50%</th>\n",
       "      <td>8.260500e+05</td>\n",
       "      <td>2.000000</td>\n",
       "      <td>1.000000</td>\n",
       "      <td>0.020000</td>\n",
       "      <td>10025.000000</td>\n",
       "      <td>1175.000000</td>\n",
       "    </tr>\n",
       "    <tr>\n",
       "      <th>75%</th>\n",
       "      <td>1.400000e+06</td>\n",
       "      <td>3.000000</td>\n",
       "      <td>2.000000</td>\n",
       "      <td>0.040000</td>\n",
       "      <td>19106.000000</td>\n",
       "      <td>1600.000000</td>\n",
       "    </tr>\n",
       "    <tr>\n",
       "      <th>max</th>\n",
       "      <td>3.500000e+07</td>\n",
       "      <td>18.000000</td>\n",
       "      <td>7.000000</td>\n",
       "      <td>0.300000</td>\n",
       "      <td>19154.000000</td>\n",
       "      <td>12000.000000</td>\n",
       "    </tr>\n",
       "  </tbody>\n",
       "</table>\n",
       "</div>"
      ],
      "text/plain": [
       "              price          bed         bath    acre_lot      zip_code  \\\n",
       "count  3.986000e+03  3652.000000  3865.000000  977.000000   3986.000000   \n",
       "mean   1.381118e+06     2.084064     1.698836    0.034063  12412.452082   \n",
       "std    2.129804e+06     1.223032     0.919009    0.032356   3965.838227   \n",
       "min    4.000000e+04     1.000000     1.000000    0.010000  10001.000000   \n",
       "25%    5.000000e+05     1.000000     1.000000    0.020000  10014.000000   \n",
       "50%    8.260500e+05     2.000000     1.000000    0.020000  10025.000000   \n",
       "75%    1.400000e+06     3.000000     2.000000    0.040000  19106.000000   \n",
       "max    3.500000e+07    18.000000     7.000000    0.300000  19154.000000   \n",
       "\n",
       "         house_size  \n",
       "count   2526.000000  \n",
       "mean    1361.787807  \n",
       "std      904.536103  \n",
       "min      323.000000  \n",
       "25%      822.000000  \n",
       "50%     1175.000000  \n",
       "75%     1600.000000  \n",
       "max    12000.000000  "
      ]
     },
     "execution_count": 15,
     "metadata": {},
     "output_type": "execute_result"
    }
   ],
   "source": [
    "df.describe()"
   ]
  },
  {
   "cell_type": "code",
   "execution_count": 16,
   "id": "49795ce6",
   "metadata": {
    "colab": {
     "base_uri": "https://localhost:8080/"
    },
    "executionInfo": {
     "elapsed": 22,
     "status": "ok",
     "timestamp": 1678246058010,
     "user": {
      "displayName": "Rohan Ukkalam",
      "userId": "06420766959062389728"
     },
     "user_tz": 300
    },
    "id": "49795ce6",
    "outputId": "8e169586-9ca5-4a20-8d0b-29e03f8d069e",
    "scrolled": true
   },
   "outputs": [
    {
     "name": "stdout",
     "output_type": "stream",
     "text": [
      "<class 'pandas.core.frame.DataFrame'>\n",
      "Int64Index: 3986 entries, 465547 to 916347\n",
      "Data columns (total 12 columns):\n",
      " #   Column        Non-Null Count  Dtype         \n",
      "---  ------        --------------  -----         \n",
      " 0   status        3986 non-null   object        \n",
      " 1   price         3986 non-null   float64       \n",
      " 2   bed           3652 non-null   float64       \n",
      " 3   bath          3865 non-null   float64       \n",
      " 4   acre_lot      977 non-null    float64       \n",
      " 5   full_address  3986 non-null   object        \n",
      " 6   street        3984 non-null   object        \n",
      " 7   city          3986 non-null   object        \n",
      " 8   state         3986 non-null   object        \n",
      " 9   zip_code      3986 non-null   float64       \n",
      " 10  house_size    2526 non-null   float64       \n",
      " 11  sold_date     3986 non-null   datetime64[ns]\n",
      "dtypes: datetime64[ns](1), float64(6), object(5)\n",
      "memory usage: 404.8+ KB\n"
     ]
    }
   ],
   "source": [
    "df.info()"
   ]
  },
  {
   "cell_type": "markdown",
   "id": "6ea67c9e",
   "metadata": {
    "id": "6ea67c9e"
   },
   "source": [
    "Data Features:\n",
    "* status: object, Categorical\n",
    "* price: float, Numerical - Continuous\n",
    "* bed: float, Numerical - Discrete\n",
    "* bath: float, Numerical - Discrete\n",
    "* acre_lot: float, Numerical - Continuous\n",
    "* full_address: object, \n",
    "* street: object\n",
    "* city: object,\n",
    "* state: object\n",
    "* zip_code: float,\n",
    "* house_size: float, Numerical - Continuous\n",
    "* sold_date: object, "
   ]
  },
  {
   "cell_type": "code",
   "execution_count": 17,
   "id": "b5d3bd33",
   "metadata": {
    "colab": {
     "base_uri": "https://localhost:8080/"
    },
    "executionInfo": {
     "elapsed": 20,
     "status": "ok",
     "timestamp": 1678246058011,
     "user": {
      "displayName": "Rohan Ukkalam",
      "userId": "06420766959062389728"
     },
     "user_tz": 300
    },
    "id": "b5d3bd33",
    "outputId": "b612a8c1-6920-435c-b7df-d68210a87e80",
    "scrolled": false
   },
   "outputs": [
    {
     "name": "stdout",
     "output_type": "stream",
     "text": [
      "For column status the unique values are 1\n",
      "For column price the unique values are 440\n",
      "For column bed the unique values are 11\n",
      "For column bath the unique values are 7\n",
      "For column acre_lot the unique values are 18\n",
      "For column full_address the unique values are 805\n",
      "For column street the unique values are 804\n",
      "For column city the unique values are 2\n",
      "For column state the unique values are 2\n",
      "For column zip_code the unique values are 92\n",
      "For column house_size the unique values are 460\n",
      "For column sold_date the unique values are 386\n"
     ]
    }
   ],
   "source": [
    "# Unique Values\n",
    "for x in list(df.columns):\n",
    "    print(\"For column\", x,\"the unique values are\",\n",
    "          df[x].nunique())"
   ]
  },
  {
   "cell_type": "code",
   "execution_count": 18,
   "id": "ebb2397d",
   "metadata": {
    "colab": {
     "base_uri": "https://localhost:8080/"
    },
    "executionInfo": {
     "elapsed": 212,
     "status": "ok",
     "timestamp": 1678246058209,
     "user": {
      "displayName": "Rohan Ukkalam",
      "userId": "06420766959062389728"
     },
     "user_tz": 300
    },
    "id": "ebb2397d",
    "outputId": "bdcd61d5-78e5-4de6-c746-01685257ea4a",
    "scrolled": false
   },
   "outputs": [
    {
     "data": {
      "text/plain": [
       "status             0\n",
       "price              0\n",
       "bed              334\n",
       "bath             121\n",
       "acre_lot        3009\n",
       "full_address       0\n",
       "street             2\n",
       "city               0\n",
       "state              0\n",
       "zip_code           0\n",
       "house_size      1460\n",
       "sold_date          0\n",
       "dtype: int64"
      ]
     },
     "execution_count": 18,
     "metadata": {},
     "output_type": "execute_result"
    }
   ],
   "source": [
    "# How many NaN's in each feature\n",
    "df.isnull().sum()"
   ]
  },
  {
   "cell_type": "code",
   "execution_count": 19,
   "id": "5af5d4f1",
   "metadata": {
    "colab": {
     "base_uri": "https://localhost:8080/",
     "height": 635
    },
    "executionInfo": {
     "elapsed": 1521,
     "status": "ok",
     "timestamp": 1678246059711,
     "user": {
      "displayName": "Rohan Ukkalam",
      "userId": "06420766959062389728"
     },
     "user_tz": 300
    },
    "id": "5af5d4f1",
    "outputId": "460b86ce-ac04-409b-a515-0e1bc4dfd332"
   },
   "outputs": [
    {
     "data": {
      "text/plain": [
       "Text(0.5, 1.0, \"Barplot of non-NaN's\")"
      ]
     },
     "execution_count": 19,
     "metadata": {},
     "output_type": "execute_result"
    },
    {
     "data": {
      "image/png": "[encoded data removed]",
      "text/plain": [
       "<Figure size 2500x1000 with 3 Axes>"
      ]
     },
     "metadata": {},
     "output_type": "display_data"
    }
   ],
   "source": [
    "# Bar plot of NaN's\n",
    "plt.rc(\"axes\", titlesize=20)\n",
    "msno.bar(df)\n",
    "plt.title(\"Barplot of non-NaN's\")"
   ]
  },
  {
   "cell_type": "code",
   "execution_count": 20,
   "id": "b5f9e419",
   "metadata": {
    "colab": {
     "base_uri": "https://localhost:8080/",
     "height": 596
    },
    "executionInfo": {
     "elapsed": 1000,
     "status": "ok",
     "timestamp": 1678246060705,
     "user": {
      "displayName": "Rohan Ukkalam",
      "userId": "06420766959062389728"
     },
     "user_tz": 300
    },
    "id": "b5f9e419",
    "outputId": "5ad02b1a-6671-411b-aa4d-c17713c9fab2"
   },
   "outputs": [
    {
     "data": {
      "text/plain": [
       "<AxesSubplot:>"
      ]
     },
     "execution_count": 20,
     "metadata": {},
     "output_type": "execute_result"
    },
    {
     "data": {
      "image/png": "[encoded data removed]",
      "text/plain": [
       "<Figure size 2500x1000 with 1 Axes>"
      ]
     },
     "metadata": {},
     "output_type": "display_data"
    }
   ],
   "source": [
    "msno.dendrogram(df)"
   ]
  },
  {
   "cell_type": "code",
   "execution_count": 21,
   "id": "2099c6df",
   "metadata": {
    "colab": {
     "base_uri": "https://localhost:8080/"
    },
    "executionInfo": {
     "elapsed": 34,
     "status": "ok",
     "timestamp": 1678246060706,
     "user": {
      "displayName": "Rohan Ukkalam",
      "userId": "06420766959062389728"
     },
     "user_tz": 300
    },
    "id": "2099c6df",
    "outputId": "854d6082-408c-4970-b191-e3bf994b313d"
   },
   "outputs": [
    {
     "data": {
      "text/plain": [
       "35000000.0"
      ]
     },
     "execution_count": 21,
     "metadata": {},
     "output_type": "execute_result"
    }
   ],
   "source": [
    "# Max Price\n",
    "df['price'].max()"
   ]
  },
  {
   "cell_type": "code",
   "execution_count": 22,
   "id": "ceadb1b3",
   "metadata": {
    "colab": {
     "base_uri": "https://localhost:8080/"
    },
    "executionInfo": {
     "elapsed": 27,
     "status": "ok",
     "timestamp": 1678246060708,
     "user": {
      "displayName": "Rohan Ukkalam",
      "userId": "06420766959062389728"
     },
     "user_tz": 300
    },
    "id": "ceadb1b3",
    "outputId": "803956c6-4dcd-463d-de78-1989170100b0"
   },
   "outputs": [
    {
     "data": {
      "text/plain": [
       "40000.0"
      ]
     },
     "execution_count": 22,
     "metadata": {},
     "output_type": "execute_result"
    }
   ],
   "source": [
    "# Min Price\n",
    "df['price'].min()"
   ]
  },
  {
   "cell_type": "code",
   "execution_count": 23,
   "id": "4d1c720c",
   "metadata": {
    "colab": {
     "base_uri": "https://localhost:8080/"
    },
    "executionInfo": {
     "elapsed": 22,
     "status": "ok",
     "timestamp": 1678246060710,
     "user": {
      "displayName": "Rohan Ukkalam",
      "userId": "06420766959062389728"
     },
     "user_tz": 300
    },
    "id": "4d1c720c",
    "outputId": "033ffad6-1df2-47db-d8e9-a4148739582a"
   },
   "outputs": [
    {
     "data": {
      "text/plain": [
       "34960000.0"
      ]
     },
     "execution_count": 23,
     "metadata": {},
     "output_type": "execute_result"
    }
   ],
   "source": [
    "# Price Range\n",
    "df['price'].max() - df['price'].min()"
   ]
  },
  {
   "cell_type": "code",
   "execution_count": 24,
   "id": "9205da37",
   "metadata": {
    "executionInfo": {
     "elapsed": 14,
     "status": "ok",
     "timestamp": 1678246060712,
     "user": {
      "displayName": "Rohan Ukkalam",
      "userId": "06420766959062389728"
     },
     "user_tz": 300
    },
    "id": "9205da37"
   },
   "outputs": [],
   "source": [
    "# Create categorical price\n",
    "def priceCat(df):\n",
    "    priceCat_list = []\n",
    "    \n",
    "    for price in df['price']:\n",
    "        if price < 10000:\n",
    "            priceCat_list.append(0)\n",
    "        elif price < 100000:\n",
    "            priceCat_list.append(1)\n",
    "        elif price < 1000000:\n",
    "            priceCat_list.append(2)\n",
    "        elif price < 10000000:\n",
    "            priceCat_list.append(3)\n",
    "        else:\n",
    "            priceCat_list.append(4)\n",
    "            \n",
    "    return(priceCat_list)\n",
    "        \n",
    "df['price_cat'] = priceCat(df)\n",
    "valid_df['price_cat'] = priceCat(valid_df)"
   ]
  },
  {
   "cell_type": "code",
   "execution_count": 25,
   "id": "bcabdff7",
   "metadata": {
    "colab": {
     "base_uri": "https://localhost:8080/",
     "height": 337
    },
    "executionInfo": {
     "elapsed": 30,
     "status": "ok",
     "timestamp": 1678246060915,
     "user": {
      "displayName": "Rohan Ukkalam",
      "userId": "06420766959062389728"
     },
     "user_tz": 300
    },
    "id": "bcabdff7",
    "outputId": "68aac486-f6a9-4fc4-e2e0-c81f802f034d"
   },
   "outputs": [
    {
     "data": {
      "text/html": [
       "<div>\n",
       "<style scoped>\n",
       "    .dataframe tbody tr th:only-of-type {\n",
       "        vertical-align: middle;\n",
       "    }\n",
       "\n",
       "    .dataframe tbody tr th {\n",
       "        vertical-align: top;\n",
       "    }\n",
       "\n",
       "    .dataframe thead th {\n",
       "        text-align: right;\n",
       "    }\n",
       "</style>\n",
       "<table border=\"1\" class=\"dataframe\">\n",
       "  <thead>\n",
       "    <tr style=\"text-align: right;\">\n",
       "      <th></th>\n",
       "      <th>status</th>\n",
       "      <th>price</th>\n",
       "      <th>bed</th>\n",
       "      <th>bath</th>\n",
       "      <th>acre_lot</th>\n",
       "      <th>full_address</th>\n",
       "      <th>street</th>\n",
       "      <th>city</th>\n",
       "      <th>state</th>\n",
       "      <th>zip_code</th>\n",
       "      <th>house_size</th>\n",
       "      <th>sold_date</th>\n",
       "      <th>price_cat</th>\n",
       "    </tr>\n",
       "  </thead>\n",
       "  <tbody>\n",
       "    <tr>\n",
       "      <th>465547</th>\n",
       "      <td>for_sale</td>\n",
       "      <td>899000.0</td>\n",
       "      <td>2.0</td>\n",
       "      <td>2.0</td>\n",
       "      <td>NaN</td>\n",
       "      <td>438 Clermont Ave Apt G, New York, NY, 11238</td>\n",
       "      <td>438 Clermont Ave Apt G</td>\n",
       "      <td>New York</td>\n",
       "      <td>New York</td>\n",
       "      <td>11238.0</td>\n",
       "      <td>NaN</td>\n",
       "      <td>2018-06-29</td>\n",
       "      <td>2</td>\n",
       "    </tr>\n",
       "    <tr>\n",
       "      <th>465602</th>\n",
       "      <td>for_sale</td>\n",
       "      <td>665000.0</td>\n",
       "      <td>1.0</td>\n",
       "      <td>1.0</td>\n",
       "      <td>NaN</td>\n",
       "      <td>66 Madison Ave Apt 8D, New York, NY, 10016</td>\n",
       "      <td>66 Madison Ave Apt 8D</td>\n",
       "      <td>New York</td>\n",
       "      <td>New York</td>\n",
       "      <td>10016.0</td>\n",
       "      <td>NaN</td>\n",
       "      <td>2019-10-17</td>\n",
       "      <td>2</td>\n",
       "    </tr>\n",
       "    <tr>\n",
       "      <th>465779</th>\n",
       "      <td>for_sale</td>\n",
       "      <td>2850000.0</td>\n",
       "      <td>3.0</td>\n",
       "      <td>2.0</td>\n",
       "      <td>NaN</td>\n",
       "      <td>470 W End Ave Unit 15B, New York, NY, 10024</td>\n",
       "      <td>470 W End Ave Unit 15B</td>\n",
       "      <td>New York</td>\n",
       "      <td>New York</td>\n",
       "      <td>10024.0</td>\n",
       "      <td>2018.0</td>\n",
       "      <td>2019-07-01</td>\n",
       "      <td>3</td>\n",
       "    </tr>\n",
       "    <tr>\n",
       "      <th>465783</th>\n",
       "      <td>for_sale</td>\n",
       "      <td>2650000.0</td>\n",
       "      <td>3.0</td>\n",
       "      <td>2.0</td>\n",
       "      <td>NaN</td>\n",
       "      <td>1150 Fifth Ave Unit 7D, New York, NY, 10129</td>\n",
       "      <td>1150 Fifth Ave Unit 7D</td>\n",
       "      <td>New York</td>\n",
       "      <td>New York</td>\n",
       "      <td>10129.0</td>\n",
       "      <td>NaN</td>\n",
       "      <td>2019-08-02</td>\n",
       "      <td>3</td>\n",
       "    </tr>\n",
       "    <tr>\n",
       "      <th>465810</th>\n",
       "      <td>for_sale</td>\n",
       "      <td>2325000.0</td>\n",
       "      <td>2.0</td>\n",
       "      <td>2.0</td>\n",
       "      <td>NaN</td>\n",
       "      <td>360 E 72nd St Apt B1209, New York, NY, 10021</td>\n",
       "      <td>360 E 72nd St Apt B1209</td>\n",
       "      <td>New York</td>\n",
       "      <td>New York</td>\n",
       "      <td>10021.0</td>\n",
       "      <td>NaN</td>\n",
       "      <td>2019-09-09</td>\n",
       "      <td>3</td>\n",
       "    </tr>\n",
       "  </tbody>\n",
       "</table>\n",
       "</div>"
      ],
      "text/plain": [
       "          status      price  bed  bath  acre_lot  \\\n",
       "465547  for_sale   899000.0  2.0   2.0       NaN   \n",
       "465602  for_sale   665000.0  1.0   1.0       NaN   \n",
       "465779  for_sale  2850000.0  3.0   2.0       NaN   \n",
       "465783  for_sale  2650000.0  3.0   2.0       NaN   \n",
       "465810  for_sale  2325000.0  2.0   2.0       NaN   \n",
       "\n",
       "                                        full_address                   street  \\\n",
       "465547   438 Clermont Ave Apt G, New York, NY, 11238   438 Clermont Ave Apt G   \n",
       "465602    66 Madison Ave Apt 8D, New York, NY, 10016    66 Madison Ave Apt 8D   \n",
       "465779   470 W End Ave Unit 15B, New York, NY, 10024   470 W End Ave Unit 15B   \n",
       "465783   1150 Fifth Ave Unit 7D, New York, NY, 10129   1150 Fifth Ave Unit 7D   \n",
       "465810  360 E 72nd St Apt B1209, New York, NY, 10021  360 E 72nd St Apt B1209   \n",
       "\n",
       "            city     state  zip_code  house_size  sold_date  price_cat  \n",
       "465547  New York  New York   11238.0         NaN 2018-06-29          2  \n",
       "465602  New York  New York   10016.0         NaN 2019-10-17          2  \n",
       "465779  New York  New York   10024.0      2018.0 2019-07-01          3  \n",
       "465783  New York  New York   10129.0         NaN 2019-08-02          3  \n",
       "465810  New York  New York   10021.0         NaN 2019-09-09          3  "
      ]
     },
     "execution_count": 25,
     "metadata": {},
     "output_type": "execute_result"
    }
   ],
   "source": [
    "df.head()"
   ]
  },
  {
   "cell_type": "code",
   "execution_count": 26,
   "id": "320dd608",
   "metadata": {
    "colab": {
     "base_uri": "https://localhost:8080/"
    },
    "executionInfo": {
     "elapsed": 28,
     "status": "ok",
     "timestamp": 1678246060916,
     "user": {
      "displayName": "Rohan Ukkalam",
      "userId": "06420766959062389728"
     },
     "user_tz": 300
    },
    "id": "320dd608",
    "outputId": "34a9a7c4-57e4-489f-818c-839ac50e4452"
   },
   "outputs": [
    {
     "name": "stdout",
     "output_type": "stream",
     "text": [
      "<class 'pandas.core.frame.DataFrame'>\n",
      "Int64Index: 3986 entries, 465547 to 916347\n",
      "Data columns (total 13 columns):\n",
      " #   Column        Non-Null Count  Dtype         \n",
      "---  ------        --------------  -----         \n",
      " 0   status        3986 non-null   object        \n",
      " 1   price         3986 non-null   float64       \n",
      " 2   bed           3652 non-null   float64       \n",
      " 3   bath          3865 non-null   float64       \n",
      " 4   acre_lot      977 non-null    float64       \n",
      " 5   full_address  3986 non-null   object        \n",
      " 6   street        3984 non-null   object        \n",
      " 7   city          3986 non-null   object        \n",
      " 8   state         3986 non-null   object        \n",
      " 9   zip_code      3986 non-null   float64       \n",
      " 10  house_size    2526 non-null   float64       \n",
      " 11  sold_date     3986 non-null   datetime64[ns]\n",
      " 12  price_cat     3986 non-null   int64         \n",
      "dtypes: datetime64[ns](1), float64(6), int64(1), object(5)\n",
      "memory usage: 436.0+ KB\n"
     ]
    }
   ],
   "source": [
    "df.info()"
   ]
  },
  {
   "cell_type": "code",
   "execution_count": 27,
   "id": "5MriyYqBmtw4",
   "metadata": {
    "colab": {
     "base_uri": "https://localhost:8080/"
    },
    "executionInfo": {
     "elapsed": 21,
     "status": "ok",
     "timestamp": 1678246060917,
     "user": {
      "displayName": "Rohan Ukkalam",
      "userId": "06420766959062389728"
     },
     "user_tz": 300
    },
    "id": "5MriyYqBmtw4",
    "outputId": "77d23f8b-8e6e-41a9-8779-36e489afe636"
   },
   "outputs": [
    {
     "data": {
      "text/plain": [
       "price         8.229803\n",
       "bed           2.455761\n",
       "bath          1.423172\n",
       "acre_lot      3.790745\n",
       "zip_code      1.099450\n",
       "house_size    3.658787\n",
       "price_cat     0.408868\n",
       "dtype: float64"
      ]
     },
     "execution_count": 27,
     "metadata": {},
     "output_type": "execute_result"
    }
   ],
   "source": [
    "df.skew(axis = 0, skipna = True, numeric_only = True)"
   ]
  },
  {
   "cell_type": "markdown",
   "id": "35d41414",
   "metadata": {
    "id": "35d41414"
   },
   "source": [
    "Some more data visualization and exploration was done on this dataset using non-Python software, such as Talbeau. Below are those visualizations"
   ]
  },
  {
   "cell_type": "code",
   "execution_count": 38,
   "id": "4b8440e9",
   "metadata": {
    "executionInfo": {
     "elapsed": 251,
     "status": "ok",
     "timestamp": 1678246061154,
     "user": {
      "displayName": "Rohan Ukkalam",
      "userId": "06420766959062389728"
     },
     "user_tz": 300
    },
    "id": "4b8440e9"
   },
   "outputs": [],
   "source": [
    "from IPython.display import Image\n",
    "if RunMode == 'Jupyter':\n",
    "    Image(r\"./images/Avg Price vs Cities Bar.png\")\n",
    "elif RunMode == 'Collab':\n",
    "    Image(r\"/content/drive/MyDrive/DSCI_592_Capstone_2/images/Avg Price vs Cities Bar.png\")"
   ]
  },
  {
   "cell_type": "code",
   "execution_count": 39,
   "id": "185e5e03",
   "metadata": {
    "executionInfo": {
     "elapsed": 450,
     "status": "ok",
     "timestamp": 1678246061601,
     "user": {
      "displayName": "Rohan Ukkalam",
      "userId": "06420766959062389728"
     },
     "user_tz": 300
    },
    "id": "185e5e03"
   },
   "outputs": [],
   "source": [
    "if RunMode == 'Jupyter':\n",
    "    Image(r\"./images/Avg Price vs Cities Geo.png\")\n",
    "elif RunMode == 'Collab':\n",
    "    Image(r\"/content/drive/MyDrive/DSCI_592_Capstone_2/images/Avg Price vs Cities Geo.png\")"
   ]
  },
  {
   "cell_type": "code",
   "execution_count": 40,
   "id": "197ccfdf",
   "metadata": {
    "executionInfo": {
     "elapsed": 440,
     "status": "ok",
     "timestamp": 1678246062035,
     "user": {
      "displayName": "Rohan Ukkalam",
      "userId": "06420766959062389728"
     },
     "user_tz": 300
    },
    "id": "197ccfdf"
   },
   "outputs": [],
   "source": [
    "if RunMode == 'Jupyter':\n",
    "    Image(r\"./images/New York City Heat Map.png\")\n",
    "elif RunMode == 'Collab':\n",
    "    Image(r\"/content/drive/MyDrive/DSCI_592_Capstone_2/images/New York City Heat Map.png\")"
   ]
  },
  {
   "cell_type": "code",
   "execution_count": 41,
   "id": "0f6b3bb2",
   "metadata": {
    "executionInfo": {
     "elapsed": 225,
     "status": "ok",
     "timestamp": 1678246062255,
     "user": {
      "displayName": "Rohan Ukkalam",
      "userId": "06420766959062389728"
     },
     "user_tz": 300
    },
    "id": "0f6b3bb2"
   },
   "outputs": [],
   "source": [
    "if RunMode == 'Jupyter':\n",
    "    Image(r\"./images/Philadelphia Heat Map.png\")\n",
    "elif RunMode == 'Collab':\n",
    "    Image(r\"/content/drive/MyDrive/DSCI_592_Capstone_2/images/Philadelphia Heat Map.png\")"
   ]
  },
  {
   "cell_type": "code",
   "execution_count": 42,
   "id": "a488d1fc",
   "metadata": {
    "executionInfo": {
     "elapsed": 498,
     "status": "ok",
     "timestamp": 1678246062745,
     "user": {
      "displayName": "Rohan Ukkalam",
      "userId": "06420766959062389728"
     },
     "user_tz": 300
    },
    "id": "a488d1fc"
   },
   "outputs": [],
   "source": [
    "if RunMode == 'Jupyter':\n",
    "    Image(r\"./images/NY vs PA Sold Date vs Price.png\")\n",
    "elif RunMode == 'Collab':\n",
    "    Image(r\"/content/drive/MyDrive/DSCI_592_Capstone_2/images/NY vs PA Sold Date vs Price.png\")"
   ]
  },
  {
   "cell_type": "code",
   "execution_count": 43,
   "id": "f90b9a15",
   "metadata": {
    "executionInfo": {
     "elapsed": 213,
     "status": "ok",
     "timestamp": 1678246062953,
     "user": {
      "displayName": "Rohan Ukkalam",
      "userId": "06420766959062389728"
     },
     "user_tz": 300
    },
    "id": "f90b9a15"
   },
   "outputs": [],
   "source": [
    "if RunMode == 'Jupyter':\n",
    "    Image(r\"./images/NYC vs Phili Sold Date vs Price.png\")\n",
    "elif RunMode == 'Collab':\n",
    "    Image(r\"/content/drive/MyDrive/DSCI_592_Capstone_2/images/NYC vs Phili Sold Date vs Price.png\")"
   ]
  },
  {
   "cell_type": "code",
   "execution_count": 44,
   "id": "2911ebe9",
   "metadata": {
    "executionInfo": {
     "elapsed": 419,
     "status": "ok",
     "timestamp": 1678246063367,
     "user": {
      "displayName": "Rohan Ukkalam",
      "userId": "06420766959062389728"
     },
     "user_tz": 300
    },
    "id": "2911ebe9"
   },
   "outputs": [],
   "source": [
    "if RunMode == 'Jupyter':\n",
    "    Image(r\"./images/NY vs PA Bar Bath.png\")\n",
    "elif RunMode == 'Collab':\n",
    "    Image(r\"/content/drive/MyDrive/DSCI_592_Capstone_2/images/NY vs PA Bar Bath.png\")"
   ]
  },
  {
   "cell_type": "code",
   "execution_count": 45,
   "id": "af7d8d2d",
   "metadata": {
    "executionInfo": {
     "elapsed": 397,
     "status": "ok",
     "timestamp": 1678246063761,
     "user": {
      "displayName": "Rohan Ukkalam",
      "userId": "06420766959062389728"
     },
     "user_tz": 300
    },
    "id": "af7d8d2d"
   },
   "outputs": [],
   "source": [
    "if RunMode == 'Jupyter':\n",
    "    Image(r\"./images/NY vs PA Bar Bed.png\")\n",
    "elif RunMode == 'Collab':\n",
    "    Image(r\"/content/drive/MyDrive/DSCI_592_Capstone_2/images/NY vs PA Bar Bed.png\")"
   ]
  },
  {
   "cell_type": "code",
   "execution_count": 46,
   "id": "942c3dc3",
   "metadata": {
    "executionInfo": {
     "elapsed": 216,
     "status": "ok",
     "timestamp": 1678246063967,
     "user": {
      "displayName": "Rohan Ukkalam",
      "userId": "06420766959062389728"
     },
     "user_tz": 300
    },
    "id": "942c3dc3"
   },
   "outputs": [],
   "source": [
    "if RunMode == 'Jupyter':\n",
    "    Image(r\"./images/NY vs PA Price Bar.png\")\n",
    "elif RunMode == 'Collab':\n",
    "    Image(r\"/content/drive/MyDrive/DSCI_592_Capstone_2/images/NY vs PA Price Bar.png\")"
   ]
  },
  {
   "cell_type": "code",
   "execution_count": 47,
   "id": "75ba51a4",
   "metadata": {
    "executionInfo": {
     "elapsed": 395,
     "status": "ok",
     "timestamp": 1678246064352,
     "user": {
      "displayName": "Rohan Ukkalam",
      "userId": "06420766959062389728"
     },
     "user_tz": 300
    },
    "id": "75ba51a4"
   },
   "outputs": [],
   "source": [
    "if RunMode == 'Jupyter':\n",
    "    Image(r\"./images/NY Vs Phili Bar (Bath).png\")\n",
    "elif RunMode == 'Collab':\n",
    "    Image(r\"/content/drive/MyDrive/DSCI_592_Capstone_2/images/NY Vs Phili Bar (Bath).png\")"
   ]
  },
  {
   "cell_type": "code",
   "execution_count": 48,
   "id": "42abe411",
   "metadata": {
    "executionInfo": {
     "elapsed": 438,
     "status": "ok",
     "timestamp": 1678246064771,
     "user": {
      "displayName": "Rohan Ukkalam",
      "userId": "06420766959062389728"
     },
     "user_tz": 300
    },
    "id": "42abe411"
   },
   "outputs": [],
   "source": [
    "if RunMode == 'Jupyter':\n",
    "    Image(r\"./images/NY Vs Phili Bar (Bed).png\")\n",
    "elif RunMode == 'Collab':\n",
    "    Image(r\"/content/drive/MyDrive/DSCI_592_Capstone_2/images/NY Vs Phili Bar (Bed).png\")"
   ]
  },
  {
   "cell_type": "code",
   "execution_count": 49,
   "id": "7f50e374",
   "metadata": {
    "executionInfo": {
     "elapsed": 207,
     "status": "ok",
     "timestamp": 1678246064965,
     "user": {
      "displayName": "Rohan Ukkalam",
      "userId": "06420766959062389728"
     },
     "user_tz": 300
    },
    "id": "7f50e374"
   },
   "outputs": [],
   "source": [
    "if RunMode == 'Jupyter':\n",
    "    Image(r\"./images/NYC Vs Phili Bar (Bed).png\")\n",
    "elif RunMode == 'Collab':\n",
    "    Image(r\"/content/drive/MyDrive/DSCI_592_Capstone_2/images/NYC Vs Phili Bar (Bed).png\")"
   ]
  },
  {
   "cell_type": "code",
   "execution_count": 50,
   "id": "d029ab20",
   "metadata": {
    "executionInfo": {
     "elapsed": 437,
     "status": "ok",
     "timestamp": 1678246065397,
     "user": {
      "displayName": "Rohan Ukkalam",
      "userId": "06420766959062389728"
     },
     "user_tz": 300
    },
    "id": "d029ab20"
   },
   "outputs": [],
   "source": [
    "if RunMode == 'Jupyter':\n",
    "    Image(r\"./images/NYC vs Phili Price Bar.png\")\n",
    "elif RunMode == 'Collab':\n",
    "    Image(r\"/content/drive/MyDrive/DSCI_592_Capstone_2/images/NYC vs Phili Price Bar.png\")"
   ]
  },
  {
   "cell_type": "code",
   "execution_count": 28,
   "id": "9865eecb",
   "metadata": {
    "executionInfo": {
     "elapsed": 26,
     "status": "ok",
     "timestamp": 1678246065401,
     "user": {
      "displayName": "Rohan Ukkalam",
      "userId": "06420766959062389728"
     },
     "user_tz": 300
    },
    "id": "9865eecb"
   },
   "outputs": [],
   "source": [
    "# First we create a function to calculate all needed statistics for a feature and then return the dictionary\n",
    "import scipy.stats\n",
    "\n",
    "def get_statistics(df, feature):\n",
    "    statistics = {}\n",
    "    mean = np.mean(df[feature])\n",
    "    stddev = np.std(df[feature])\n",
    "    fifty_percentile = np.percentile(df[feature], 50)\n",
    "    statistics['Mean'] = mean\n",
    "    statistics['Standard Deviation'] = stddev\n",
    "    statistics['50th Percentile'] = fifty_percentile\n",
    "    return statistics\n",
    "\n",
    "# Now we write a function that calculates the pearson correlation for two features\n",
    "def pearson(df, feature1, feature2):\n",
    "    x = df[feature1]\n",
    "    y = df[feature2]\n",
    "    return scipy.stats.pearsonr(x,y)\n",
    "     "
   ]
  },
  {
   "cell_type": "code",
   "execution_count": 29,
   "id": "3e37685e",
   "metadata": {
    "colab": {
     "base_uri": "https://localhost:8080/"
    },
    "executionInfo": {
     "elapsed": 27,
     "status": "ok",
     "timestamp": 1678246065404,
     "user": {
      "displayName": "Rohan Ukkalam",
      "userId": "06420766959062389728"
     },
     "user_tz": 300
    },
    "id": "3e37685e",
    "outputId": "e8c64ee1-451a-44a2-fa6f-e104a543a650"
   },
   "outputs": [
    {
     "name": "stdout",
     "output_type": "stream",
     "text": [
      "Price Statistics\n",
      "Mean: 1381118.43\n",
      "Standard Deviation: 2129536.67\n",
      "50th Percentile: 826050.00\n",
      "\n",
      "Acre Lot Statistics\n",
      "Mean: 0.03\n",
      "Standard Deviation: 0.03\n",
      "50th Percentile: nan\n",
      "\n",
      "House Size Statistics\n",
      "Mean: 1361.787807\n",
      "Standard Deviation: 904.36\n",
      "50th Percentile: nan\n"
     ]
    }
   ],
   "source": [
    "# Gathering statistics for all the continuous values in our dataset\n",
    "price_stats = get_statistics(df, 'price')\n",
    "print(\"Price Statistics\")\n",
    "print(f'Mean: {price_stats[\"Mean\"]:.2f}')\n",
    "print(f'Standard Deviation: {price_stats[\"Standard Deviation\"]:.2f}')\n",
    "print(f'50th Percentile: {price_stats[\"50th Percentile\"]:.2f}')\n",
    "print()\n",
    "\n",
    "acre_stats = get_statistics(df, 'acre_lot')\n",
    "print(\"Acre Lot Statistics\")\n",
    "print(f'Mean: {acre_stats[\"Mean\"]:.2f}')\n",
    "print(f'Standard Deviation: {acre_stats[\"Standard Deviation\"]:.2f}')\n",
    "print(f'50th Percentile: {acre_stats[\"50th Percentile\"]:.2f}')\n",
    "print()\n",
    "\n",
    "house_size_stats = get_statistics(df, 'house_size')\n",
    "print(\"House Size Statistics\")\n",
    "print(f'Mean: {house_size_stats[\"Mean\"]:2f}')\n",
    "print(f'Standard Deviation: {house_size_stats[\"Standard Deviation\"]:.2f}')\n",
    "print(f'50th Percentile: {house_size_stats[\"50th Percentile\"]:.2f}')"
   ]
  },
  {
   "cell_type": "markdown",
   "id": "92621e4f",
   "metadata": {
    "id": "92621e4f"
   },
   "source": [
    "### Processing"
   ]
  },
  {
   "cell_type": "code",
   "execution_count": 30,
   "id": "1c6f1e55",
   "metadata": {
    "executionInfo": {
     "elapsed": 24,
     "status": "ok",
     "timestamp": 1678246065406,
     "user": {
      "displayName": "Rohan Ukkalam",
      "userId": "06420766959062389728"
     },
     "user_tz": 300
    },
    "id": "1c6f1e55"
   },
   "outputs": [],
   "source": [
    "# Drop acre_lot column\n",
    "df.drop(['acre_lot', 'full_address', 'street'],\n",
    "        axis=1, inplace=True)\n",
    "\n",
    "valid_df.drop(['acre_lot', 'full_address', 'street'],\n",
    "        axis=1, inplace=True)"
   ]
  },
  {
   "cell_type": "code",
   "execution_count": 31,
   "id": "1ad07e71",
   "metadata": {
    "executionInfo": {
     "elapsed": 24,
     "status": "ok",
     "timestamp": 1678246065408,
     "user": {
      "displayName": "Rohan Ukkalam",
      "userId": "06420766959062389728"
     },
     "user_tz": 300
    },
    "id": "1ad07e71"
   },
   "outputs": [],
   "source": [
    "le = LabelEncoder()\n",
    "\n",
    "cityLabel = le.fit_transform(df['city'])\n",
    "stateLabel = le.fit_transform(df['state'])\n",
    "df['city'] = cityLabel\n",
    "df['state'] = stateLabel"
   ]
  },
  {
   "cell_type": "code",
   "execution_count": 32,
   "id": "431b0a5b",
   "metadata": {
    "executionInfo": {
     "elapsed": 247,
     "status": "ok",
     "timestamp": 1678246065633,
     "user": {
      "displayName": "Rohan Ukkalam",
      "userId": "06420766959062389728"
     },
     "user_tz": 300
    },
    "id": "431b0a5b"
   },
   "outputs": [],
   "source": [
    "cityLabel_V = le.fit_transform(valid_df['city'])\n",
    "stateLabel_V = le.fit_transform(valid_df['state'])\n",
    "valid_df['city'] = cityLabel_V\n",
    "valid_df['state'] = stateLabel_V"
   ]
  },
  {
   "cell_type": "code",
   "execution_count": 33,
   "id": "69a4b1f2",
   "metadata": {
    "colab": {
     "base_uri": "https://localhost:8080/",
     "height": 206
    },
    "executionInfo": {
     "elapsed": 80,
     "status": "ok",
     "timestamp": 1678246065636,
     "user": {
      "displayName": "Rohan Ukkalam",
      "userId": "06420766959062389728"
     },
     "user_tz": 300
    },
    "id": "69a4b1f2",
    "outputId": "d7c8a840-4e85-4fbb-e32b-539c07178746"
   },
   "outputs": [
    {
     "data": {
      "text/html": [
       "<div>\n",
       "<style scoped>\n",
       "    .dataframe tbody tr th:only-of-type {\n",
       "        vertical-align: middle;\n",
       "    }\n",
       "\n",
       "    .dataframe tbody tr th {\n",
       "        vertical-align: top;\n",
       "    }\n",
       "\n",
       "    .dataframe thead th {\n",
       "        text-align: right;\n",
       "    }\n",
       "</style>\n",
       "<table border=\"1\" class=\"dataframe\">\n",
       "  <thead>\n",
       "    <tr style=\"text-align: right;\">\n",
       "      <th></th>\n",
       "      <th>status</th>\n",
       "      <th>price</th>\n",
       "      <th>bed</th>\n",
       "      <th>bath</th>\n",
       "      <th>city</th>\n",
       "      <th>state</th>\n",
       "      <th>zip_code</th>\n",
       "      <th>house_size</th>\n",
       "      <th>sold_date</th>\n",
       "      <th>price_cat</th>\n",
       "    </tr>\n",
       "  </thead>\n",
       "  <tbody>\n",
       "    <tr>\n",
       "      <th>465547</th>\n",
       "      <td>for_sale</td>\n",
       "      <td>899000.0</td>\n",
       "      <td>2.0</td>\n",
       "      <td>2.0</td>\n",
       "      <td>0</td>\n",
       "      <td>0</td>\n",
       "      <td>11238.0</td>\n",
       "      <td>NaN</td>\n",
       "      <td>2018-06-29</td>\n",
       "      <td>2</td>\n",
       "    </tr>\n",
       "    <tr>\n",
       "      <th>465602</th>\n",
       "      <td>for_sale</td>\n",
       "      <td>665000.0</td>\n",
       "      <td>1.0</td>\n",
       "      <td>1.0</td>\n",
       "      <td>0</td>\n",
       "      <td>0</td>\n",
       "      <td>10016.0</td>\n",
       "      <td>NaN</td>\n",
       "      <td>2019-10-17</td>\n",
       "      <td>2</td>\n",
       "    </tr>\n",
       "    <tr>\n",
       "      <th>465779</th>\n",
       "      <td>for_sale</td>\n",
       "      <td>2850000.0</td>\n",
       "      <td>3.0</td>\n",
       "      <td>2.0</td>\n",
       "      <td>0</td>\n",
       "      <td>0</td>\n",
       "      <td>10024.0</td>\n",
       "      <td>2018.0</td>\n",
       "      <td>2019-07-01</td>\n",
       "      <td>3</td>\n",
       "    </tr>\n",
       "    <tr>\n",
       "      <th>465783</th>\n",
       "      <td>for_sale</td>\n",
       "      <td>2650000.0</td>\n",
       "      <td>3.0</td>\n",
       "      <td>2.0</td>\n",
       "      <td>0</td>\n",
       "      <td>0</td>\n",
       "      <td>10129.0</td>\n",
       "      <td>NaN</td>\n",
       "      <td>2019-08-02</td>\n",
       "      <td>3</td>\n",
       "    </tr>\n",
       "    <tr>\n",
       "      <th>465810</th>\n",
       "      <td>for_sale</td>\n",
       "      <td>2325000.0</td>\n",
       "      <td>2.0</td>\n",
       "      <td>2.0</td>\n",
       "      <td>0</td>\n",
       "      <td>0</td>\n",
       "      <td>10021.0</td>\n",
       "      <td>NaN</td>\n",
       "      <td>2019-09-09</td>\n",
       "      <td>3</td>\n",
       "    </tr>\n",
       "  </tbody>\n",
       "</table>\n",
       "</div>"
      ],
      "text/plain": [
       "          status      price  bed  bath  city  state  zip_code  house_size  \\\n",
       "465547  for_sale   899000.0  2.0   2.0     0      0   11238.0         NaN   \n",
       "465602  for_sale   665000.0  1.0   1.0     0      0   10016.0         NaN   \n",
       "465779  for_sale  2850000.0  3.0   2.0     0      0   10024.0      2018.0   \n",
       "465783  for_sale  2650000.0  3.0   2.0     0      0   10129.0         NaN   \n",
       "465810  for_sale  2325000.0  2.0   2.0     0      0   10021.0         NaN   \n",
       "\n",
       "        sold_date  price_cat  \n",
       "465547 2018-06-29          2  \n",
       "465602 2019-10-17          2  \n",
       "465779 2019-07-01          3  \n",
       "465783 2019-08-02          3  \n",
       "465810 2019-09-09          3  "
      ]
     },
     "execution_count": 33,
     "metadata": {},
     "output_type": "execute_result"
    }
   ],
   "source": [
    "df.head()"
   ]
  },
  {
   "cell_type": "code",
   "execution_count": 34,
   "id": "789d5412",
   "metadata": {
    "executionInfo": {
     "elapsed": 82,
     "status": "ok",
     "timestamp": 1678246065642,
     "user": {
      "displayName": "Rohan Ukkalam",
      "userId": "06420766959062389728"
     },
     "user_tz": 300
    },
    "id": "789d5412"
   },
   "outputs": [],
   "source": [
    "# Drop null values\n",
    "df = df.dropna()\n",
    "valid_df = valid_df.dropna()"
   ]
  },
  {
   "cell_type": "code",
   "execution_count": 35,
   "id": "1263d05c",
   "metadata": {
    "colab": {
     "base_uri": "https://localhost:8080/"
    },
    "executionInfo": {
     "elapsed": 83,
     "status": "ok",
     "timestamp": 1678246065644,
     "user": {
      "displayName": "Rohan Ukkalam",
      "userId": "06420766959062389728"
     },
     "user_tz": 300
    },
    "id": "1263d05c",
    "outputId": "ab2d7d8f-a27f-4bee-f98a-71766a9ec33b"
   },
   "outputs": [
    {
     "data": {
      "text/plain": [
       "(2256, 10)"
      ]
     },
     "execution_count": 35,
     "metadata": {},
     "output_type": "execute_result"
    }
   ],
   "source": [
    "df.shape"
   ]
  },
  {
   "cell_type": "code",
   "execution_count": 36,
   "id": "94b602d1",
   "metadata": {
    "colab": {
     "base_uri": "https://localhost:8080/"
    },
    "executionInfo": {
     "elapsed": 75,
     "status": "ok",
     "timestamp": 1678246065645,
     "user": {
      "displayName": "Rohan Ukkalam",
      "userId": "06420766959062389728"
     },
     "user_tz": 300
    },
    "id": "94b602d1",
    "outputId": "464549e4-e1c3-48c5-e061-dccca9abb026"
   },
   "outputs": [
    {
     "data": {
      "text/plain": [
       "(301, 10)"
      ]
     },
     "execution_count": 36,
     "metadata": {},
     "output_type": "execute_result"
    }
   ],
   "source": [
    "valid_df.shape"
   ]
  },
  {
   "cell_type": "code",
   "execution_count": 37,
   "id": "8d5f3802",
   "metadata": {
    "colab": {
     "base_uri": "https://localhost:8080/",
     "height": 206
    },
    "executionInfo": {
     "elapsed": 69,
     "status": "ok",
     "timestamp": 1678246065646,
     "user": {
      "displayName": "Rohan Ukkalam",
      "userId": "06420766959062389728"
     },
     "user_tz": 300
    },
    "id": "8d5f3802",
    "outputId": "b09cbdbc-22d3-40ec-9364-00cacbf61ae1"
   },
   "outputs": [
    {
     "data": {
      "text/html": [
       "<div>\n",
       "<style scoped>\n",
       "    .dataframe tbody tr th:only-of-type {\n",
       "        vertical-align: middle;\n",
       "    }\n",
       "\n",
       "    .dataframe tbody tr th {\n",
       "        vertical-align: top;\n",
       "    }\n",
       "\n",
       "    .dataframe thead th {\n",
       "        text-align: right;\n",
       "    }\n",
       "</style>\n",
       "<table border=\"1\" class=\"dataframe\">\n",
       "  <thead>\n",
       "    <tr style=\"text-align: right;\">\n",
       "      <th></th>\n",
       "      <th>status</th>\n",
       "      <th>price</th>\n",
       "      <th>bed</th>\n",
       "      <th>bath</th>\n",
       "      <th>city</th>\n",
       "      <th>state</th>\n",
       "      <th>zip_code</th>\n",
       "      <th>house_size</th>\n",
       "      <th>sold_date</th>\n",
       "      <th>price_cat</th>\n",
       "    </tr>\n",
       "  </thead>\n",
       "  <tbody>\n",
       "    <tr>\n",
       "      <th>465779</th>\n",
       "      <td>for_sale</td>\n",
       "      <td>2850000.0</td>\n",
       "      <td>3.0</td>\n",
       "      <td>2.0</td>\n",
       "      <td>0</td>\n",
       "      <td>0</td>\n",
       "      <td>10024.0</td>\n",
       "      <td>2018.0</td>\n",
       "      <td>2019-07-01</td>\n",
       "      <td>3</td>\n",
       "    </tr>\n",
       "    <tr>\n",
       "      <th>465815</th>\n",
       "      <td>for_sale</td>\n",
       "      <td>2785000.0</td>\n",
       "      <td>3.0</td>\n",
       "      <td>3.0</td>\n",
       "      <td>0</td>\n",
       "      <td>0</td>\n",
       "      <td>10065.0</td>\n",
       "      <td>1677.0</td>\n",
       "      <td>2018-02-12</td>\n",
       "      <td>3</td>\n",
       "    </tr>\n",
       "    <tr>\n",
       "      <th>466072</th>\n",
       "      <td>for_sale</td>\n",
       "      <td>699000.0</td>\n",
       "      <td>3.0</td>\n",
       "      <td>2.0</td>\n",
       "      <td>0</td>\n",
       "      <td>0</td>\n",
       "      <td>10032.0</td>\n",
       "      <td>1100.0</td>\n",
       "      <td>2019-07-12</td>\n",
       "      <td>2</td>\n",
       "    </tr>\n",
       "    <tr>\n",
       "      <th>466240</th>\n",
       "      <td>for_sale</td>\n",
       "      <td>4495000.0</td>\n",
       "      <td>2.0</td>\n",
       "      <td>2.0</td>\n",
       "      <td>0</td>\n",
       "      <td>0</td>\n",
       "      <td>10012.0</td>\n",
       "      <td>2000.0</td>\n",
       "      <td>2018-03-28</td>\n",
       "      <td>3</td>\n",
       "    </tr>\n",
       "    <tr>\n",
       "      <th>466258</th>\n",
       "      <td>for_sale</td>\n",
       "      <td>3775000.0</td>\n",
       "      <td>2.0</td>\n",
       "      <td>2.0</td>\n",
       "      <td>0</td>\n",
       "      <td>0</td>\n",
       "      <td>10007.0</td>\n",
       "      <td>1573.0</td>\n",
       "      <td>2018-09-05</td>\n",
       "      <td>3</td>\n",
       "    </tr>\n",
       "  </tbody>\n",
       "</table>\n",
       "</div>"
      ],
      "text/plain": [
       "          status      price  bed  bath  city  state  zip_code  house_size  \\\n",
       "465779  for_sale  2850000.0  3.0   2.0     0      0   10024.0      2018.0   \n",
       "465815  for_sale  2785000.0  3.0   3.0     0      0   10065.0      1677.0   \n",
       "466072  for_sale   699000.0  3.0   2.0     0      0   10032.0      1100.0   \n",
       "466240  for_sale  4495000.0  2.0   2.0     0      0   10012.0      2000.0   \n",
       "466258  for_sale  3775000.0  2.0   2.0     0      0   10007.0      1573.0   \n",
       "\n",
       "        sold_date  price_cat  \n",
       "465779 2019-07-01          3  \n",
       "465815 2018-02-12          3  \n",
       "466072 2019-07-12          2  \n",
       "466240 2018-03-28          3  \n",
       "466258 2018-09-05          3  "
      ]
     },
     "execution_count": 37,
     "metadata": {},
     "output_type": "execute_result"
    }
   ],
   "source": [
    "df.head()"
   ]
  },
  {
   "cell_type": "code",
   "execution_count": 38,
   "id": "61c67afd",
   "metadata": {
    "colab": {
     "base_uri": "https://localhost:8080/"
    },
    "executionInfo": {
     "elapsed": 65,
     "status": "ok",
     "timestamp": 1678246065647,
     "user": {
      "displayName": "Rohan Ukkalam",
      "userId": "06420766959062389728"
     },
     "user_tz": 300
    },
    "id": "61c67afd",
    "outputId": "6b418730-bc5e-4dd9-dec9-3740fc7f9e69",
    "scrolled": true
   },
   "outputs": [
    {
     "data": {
      "text/plain": [
       "465779   2019-07-01\n",
       "465815   2018-02-12\n",
       "466072   2019-07-12\n",
       "466240   2018-03-28\n",
       "466258   2018-09-05\n",
       "Name: sold_date, dtype: datetime64[ns]"
      ]
     },
     "execution_count": 38,
     "metadata": {},
     "output_type": "execute_result"
    }
   ],
   "source": [
    "df.sold_date.head()"
   ]
  },
  {
   "cell_type": "code",
   "execution_count": 39,
   "id": "741992b2",
   "metadata": {
    "colab": {
     "base_uri": "https://localhost:8080/"
    },
    "executionInfo": {
     "elapsed": 56,
     "status": "ok",
     "timestamp": 1678246065647,
     "user": {
      "displayName": "Rohan Ukkalam",
      "userId": "06420766959062389728"
     },
     "user_tz": 300
    },
    "id": "741992b2",
    "outputId": "575f1eb8-257b-4de6-9d69-96b1a30a5f44"
   },
   "outputs": [
    {
     "data": {
      "text/plain": [
       "465779   2019-07-01\n",
       "465815   2018-02-12\n",
       "466072   2019-07-12\n",
       "466240   2018-03-28\n",
       "466258   2018-09-05\n",
       "Name: sold_date, dtype: datetime64[ns]"
      ]
     },
     "execution_count": 39,
     "metadata": {},
     "output_type": "execute_result"
    }
   ],
   "source": [
    "df.sold_date.head()"
   ]
  },
  {
   "cell_type": "code",
   "execution_count": 40,
   "id": "76268bb2",
   "metadata": {
    "executionInfo": {
     "elapsed": 51,
     "status": "ok",
     "timestamp": 1678246065648,
     "user": {
      "displayName": "Rohan Ukkalam",
      "userId": "06420766959062389728"
     },
     "user_tz": 300
    },
    "id": "76268bb2"
   },
   "outputs": [],
   "source": [
    "def total_days(df):\n",
    "    totalDays = []\n",
    "    dayZero_String = \"2018-01-01\"\n",
    "    dayZero_format = \"%Y-%m-%d\"\n",
    "    dayZero = datetime.datetime.strptime(dayZero_String, dayZero_format)\n",
    "    \n",
    "    for el in df:\n",
    "        timedelta = el - dayZero\n",
    "        totalDays.append(timedelta.total_seconds() * 0.00001157)\n",
    "        \n",
    "    return(totalDays)"
   ]
  },
  {
   "cell_type": "code",
   "execution_count": 41,
   "id": "6c6fe7e6",
   "metadata": {
    "colab": {
     "base_uri": "https://localhost:8080/"
    },
    "executionInfo": {
     "elapsed": 341,
     "status": "ok",
     "timestamp": 1678246065939,
     "user": {
      "displayName": "Rohan Ukkalam",
      "userId": "06420766959062389728"
     },
     "user_tz": 300
    },
    "id": "6c6fe7e6",
    "outputId": "3811de8a-75e6-42b3-81d2-c386dd4ad38e"
   },
   "outputs": [],
   "source": [
    "temp = total_days(df['sold_date'])\n",
    "df['sold_date'] = temp"
   ]
  },
  {
   "cell_type": "code",
   "execution_count": 42,
   "id": "40b7c22f",
   "metadata": {
    "executionInfo": {
     "elapsed": 25,
     "status": "ok",
     "timestamp": 1678246065940,
     "user": {
      "displayName": "Rohan Ukkalam",
      "userId": "06420766959062389728"
     },
     "user_tz": 300
    },
    "id": "40b7c22f"
   },
   "outputs": [],
   "source": [
    "temp = total_days(valid_df['sold_date'])\n",
    "valid_df['sold_date'] = temp"
   ]
  },
  {
   "cell_type": "code",
   "execution_count": 43,
   "id": "bcd06671",
   "metadata": {
    "colab": {
     "base_uri": "https://localhost:8080/",
     "height": 206
    },
    "executionInfo": {
     "elapsed": 26,
     "status": "ok",
     "timestamp": 1678246065942,
     "user": {
      "displayName": "Rohan Ukkalam",
      "userId": "06420766959062389728"
     },
     "user_tz": 300
    },
    "id": "bcd06671",
    "outputId": "31f38a85-a3c6-462a-adcc-d8cde1f1795f"
   },
   "outputs": [
    {
     "data": {
      "text/html": [
       "<div>\n",
       "<style scoped>\n",
       "    .dataframe tbody tr th:only-of-type {\n",
       "        vertical-align: middle;\n",
       "    }\n",
       "\n",
       "    .dataframe tbody tr th {\n",
       "        vertical-align: top;\n",
       "    }\n",
       "\n",
       "    .dataframe thead th {\n",
       "        text-align: right;\n",
       "    }\n",
       "</style>\n",
       "<table border=\"1\" class=\"dataframe\">\n",
       "  <thead>\n",
       "    <tr style=\"text-align: right;\">\n",
       "      <th></th>\n",
       "      <th>status</th>\n",
       "      <th>price</th>\n",
       "      <th>bed</th>\n",
       "      <th>bath</th>\n",
       "      <th>city</th>\n",
       "      <th>state</th>\n",
       "      <th>zip_code</th>\n",
       "      <th>house_size</th>\n",
       "      <th>sold_date</th>\n",
       "      <th>price_cat</th>\n",
       "    </tr>\n",
       "  </thead>\n",
       "  <tbody>\n",
       "    <tr>\n",
       "      <th>465779</th>\n",
       "      <td>for_sale</td>\n",
       "      <td>2850000.0</td>\n",
       "      <td>3.0</td>\n",
       "      <td>2.0</td>\n",
       "      <td>0</td>\n",
       "      <td>0</td>\n",
       "      <td>10024.0</td>\n",
       "      <td>2018.0</td>\n",
       "      <td>545.807808</td>\n",
       "      <td>3</td>\n",
       "    </tr>\n",
       "    <tr>\n",
       "      <th>465815</th>\n",
       "      <td>for_sale</td>\n",
       "      <td>2785000.0</td>\n",
       "      <td>3.0</td>\n",
       "      <td>3.0</td>\n",
       "      <td>0</td>\n",
       "      <td>0</td>\n",
       "      <td>10065.0</td>\n",
       "      <td>1677.0</td>\n",
       "      <td>41.985216</td>\n",
       "      <td>3</td>\n",
       "    </tr>\n",
       "    <tr>\n",
       "      <th>466072</th>\n",
       "      <td>for_sale</td>\n",
       "      <td>699000.0</td>\n",
       "      <td>3.0</td>\n",
       "      <td>2.0</td>\n",
       "      <td>0</td>\n",
       "      <td>0</td>\n",
       "      <td>10032.0</td>\n",
       "      <td>1100.0</td>\n",
       "      <td>556.803936</td>\n",
       "      <td>2</td>\n",
       "    </tr>\n",
       "    <tr>\n",
       "      <th>466240</th>\n",
       "      <td>for_sale</td>\n",
       "      <td>4495000.0</td>\n",
       "      <td>2.0</td>\n",
       "      <td>2.0</td>\n",
       "      <td>0</td>\n",
       "      <td>0</td>\n",
       "      <td>10012.0</td>\n",
       "      <td>2000.0</td>\n",
       "      <td>85.969728</td>\n",
       "      <td>3</td>\n",
       "    </tr>\n",
       "    <tr>\n",
       "      <th>466258</th>\n",
       "      <td>for_sale</td>\n",
       "      <td>3775000.0</td>\n",
       "      <td>2.0</td>\n",
       "      <td>2.0</td>\n",
       "      <td>0</td>\n",
       "      <td>0</td>\n",
       "      <td>10007.0</td>\n",
       "      <td>1573.0</td>\n",
       "      <td>246.913056</td>\n",
       "      <td>3</td>\n",
       "    </tr>\n",
       "  </tbody>\n",
       "</table>\n",
       "</div>"
      ],
      "text/plain": [
       "          status      price  bed  bath  city  state  zip_code  house_size  \\\n",
       "465779  for_sale  2850000.0  3.0   2.0     0      0   10024.0      2018.0   \n",
       "465815  for_sale  2785000.0  3.0   3.0     0      0   10065.0      1677.0   \n",
       "466072  for_sale   699000.0  3.0   2.0     0      0   10032.0      1100.0   \n",
       "466240  for_sale  4495000.0  2.0   2.0     0      0   10012.0      2000.0   \n",
       "466258  for_sale  3775000.0  2.0   2.0     0      0   10007.0      1573.0   \n",
       "\n",
       "         sold_date  price_cat  \n",
       "465779  545.807808          3  \n",
       "465815   41.985216          3  \n",
       "466072  556.803936          2  \n",
       "466240   85.969728          3  \n",
       "466258  246.913056          3  "
      ]
     },
     "execution_count": 43,
     "metadata": {},
     "output_type": "execute_result"
    }
   ],
   "source": [
    "df.head()"
   ]
  },
  {
   "cell_type": "markdown",
   "id": "270bcf14",
   "metadata": {
    "id": "270bcf14"
   },
   "source": [
    "### Correlation"
   ]
  },
  {
   "cell_type": "code",
   "execution_count": 44,
   "id": "2ede76f8",
   "metadata": {
    "colab": {
     "base_uri": "https://localhost:8080/"
    },
    "executionInfo": {
     "elapsed": 24,
     "status": "ok",
     "timestamp": 1678246065944,
     "user": {
      "displayName": "Rohan Ukkalam",
      "userId": "06420766959062389728"
     },
     "user_tz": 300
    },
    "id": "2ede76f8",
    "outputId": "4b2276bb-b8e0-46d3-8839-ad5a95d41905"
   },
   "outputs": [
    {
     "data": {
      "text/plain": [
       "price         1.000000\n",
       "price_cat     0.584201\n",
       "house_size    0.478826\n",
       "bath          0.430591\n",
       "bed           0.114842\n",
       "sold_date    -0.103990\n",
       "city         -0.362130\n",
       "state        -0.362130\n",
       "zip_code     -0.365615\n",
       "Name: price, dtype: float64"
      ]
     },
     "execution_count": 44,
     "metadata": {},
     "output_type": "execute_result"
    }
   ],
   "source": [
    "# Correlation Matrix\n",
    "corr_matrix = df.corr()\n",
    "corr_matrix[\"price\"].sort_values(ascending=False)"
   ]
  },
  {
   "cell_type": "code",
   "execution_count": 45,
   "id": "ee4a4644",
   "metadata": {
    "colab": {
     "base_uri": "https://localhost:8080/",
     "height": 332
    },
    "executionInfo": {
     "elapsed": 1033,
     "status": "ok",
     "timestamp": 1678246066961,
     "user": {
      "displayName": "Rohan Ukkalam",
      "userId": "06420766959062389728"
     },
     "user_tz": 300
    },
    "id": "ee4a4644",
    "outputId": "4f199cbe-88a3-4900-95db-54e15ca875d7"
   },
   "outputs": [
    {
     "data": {
      "text/plain": [
       "<AxesSubplot:>"
      ]
     },
     "execution_count": 45,
     "metadata": {},
     "output_type": "execute_result"
    },
    {
     "data": {
      "image/png": "[encoded data removed]",
      "text/plain": [
       "<Figure size 640x480 with 2 Axes>"
      ]
     },
     "metadata": {},
     "output_type": "display_data"
    }
   ],
   "source": [
    "corr = df.corr()\n",
    "sns.heatmap(corr, cmap=\"YlGnBu\", annot=True, fmt=\".1f\")"
   ]
  },
  {
   "cell_type": "code",
   "execution_count": 46,
   "id": "b2d90c69",
   "metadata": {
    "colab": {
     "base_uri": "https://localhost:8080/"
    },
    "executionInfo": {
     "elapsed": 90,
     "status": "ok",
     "timestamp": 1678246066962,
     "user": {
      "displayName": "Rohan Ukkalam",
      "userId": "06420766959062389728"
     },
     "user_tz": 300
    },
    "id": "b2d90c69",
    "outputId": "e460c566-798d-44ab-a1c6-102bf238d6bc"
   },
   "outputs": [
    {
     "name": "stderr",
     "output_type": "stream",
     "text": [
      "/Users/nikhil/opt/anaconda3/lib/python3.9/site-packages/scipy/stats/_stats_py.py:4424: ConstantInputWarning: An input array is constant; the correlation coefficient is not defined.\n",
      "  warnings.warn(stats.ConstantInputWarning(msg))\n",
      "/Users/nikhil/opt/anaconda3/lib/python3.9/site-packages/scipy/stats/_stats_py.py:4878: ConstantInputWarning: An input array is constant; the correlation coefficient is not defined.\n",
      "  warnings.warn(stats.ConstantInputWarning(warn_msg))\n"
     ]
    },
    {
     "name": "stdout",
     "output_type": "stream",
     "text": [
      "The Pearson Coefficient between status and price is nan\n",
      "The Spearman Coefficient between status and price is nan\n",
      "\n",
      "The Pearson Coefficient between price and price is 0.9999999999999996\n",
      "The Spearman Coefficient between price and price is 1.0\n",
      "\n",
      "The Pearson Coefficient between bed and price is 0.11484166431062226\n",
      "The Spearman Coefficient between bed and price is -0.2059085188586301\n",
      "\n",
      "The Pearson Coefficient between bath and price is 0.43059085421118204\n",
      "The Spearman Coefficient between bath and price is 0.277774142567818\n",
      "\n",
      "The Pearson Coefficient between city and price is -0.36213034272418726\n",
      "The Spearman Coefficient between city and price is -0.7771559477180975\n",
      "\n",
      "The Pearson Coefficient between state and price is -0.36213034272418726\n",
      "The Spearman Coefficient between state and price is -0.7771559477180975\n",
      "\n",
      "The Pearson Coefficient between zip_code and price is -0.3656152668317615\n",
      "The Spearman Coefficient between zip_code and price is -0.7698656364389044\n",
      "\n",
      "The Pearson Coefficient between house_size and price is 0.4788255202758154\n",
      "The Spearman Coefficient between house_size and price is 0.2069580647699778\n",
      "\n",
      "The Pearson Coefficient between sold_date and price is -0.10399007226120652\n",
      "The Spearman Coefficient between sold_date and price is -0.042225280949221185\n",
      "\n",
      "The Pearson Coefficient between price_cat and price is 0.5842008055866278\n",
      "The Spearman Coefficient between price_cat and price is 0.8651667303415489\n",
      "\n"
     ]
    }
   ],
   "source": [
    "for (columnName, columnData) in df.iteritems():\n",
    "    corr, _ = pearsonr(df[columnName], df['price'])\n",
    "    print('The Pearson Coefficient between ' + str(columnName) + ' and price is ' + str(corr))\n",
    "    corr, _ = spearmanr(df[columnName], df['price'])\n",
    "    print('The Spearman Coefficient between ' + str(columnName) + ' and price is ' + str(corr))\n",
    "    print()"
   ]
  },
  {
   "cell_type": "markdown",
   "id": "63d914b5",
   "metadata": {
    "id": "63d914b5"
   },
   "source": [
    "### Feature Selection"
   ]
  },
  {
   "cell_type": "code",
   "execution_count": 47,
   "id": "1e8e7344",
   "metadata": {
    "executionInfo": {
     "elapsed": 78,
     "status": "ok",
     "timestamp": 1678246066963,
     "user": {
      "displayName": "Rohan Ukkalam",
      "userId": "06420766959062389728"
     },
     "user_tz": 300
    },
    "id": "1e8e7344",
    "scrolled": true
   },
   "outputs": [],
   "source": [
    "df.drop(['status','city', 'state'],\n",
    "        axis=1, inplace=True)\n",
    "\n",
    "valid_df.drop(['status','city', 'state'],\n",
    "        axis=1, inplace=True)"
   ]
  },
  {
   "cell_type": "code",
   "execution_count": 48,
   "id": "907b3bfd",
   "metadata": {
    "executionInfo": {
     "elapsed": 78,
     "status": "ok",
     "timestamp": 1678246066965,
     "user": {
      "displayName": "Rohan Ukkalam",
      "userId": "06420766959062389728"
     },
     "user_tz": 300
    },
    "id": "907b3bfd"
   },
   "outputs": [],
   "source": [
    "reg_df = df.drop(['price_cat'], axis=1)\n",
    "valid_reg_df = valid_df.drop(['price_cat'], axis=1)"
   ]
  },
  {
   "cell_type": "code",
   "execution_count": 49,
   "id": "a3640be4",
   "metadata": {
    "executionInfo": {
     "elapsed": 78,
     "status": "ok",
     "timestamp": 1678246066966,
     "user": {
      "displayName": "Rohan Ukkalam",
      "userId": "06420766959062389728"
     },
     "user_tz": 300
    },
    "id": "a3640be4"
   },
   "outputs": [],
   "source": [
    "cat_df = df.drop(['price'],\n",
    "        axis=1)\n",
    "valid_cat_df = valid_df.drop(['price'],\n",
    "        axis=1)"
   ]
  },
  {
   "cell_type": "markdown",
   "id": "bd1461a3",
   "metadata": {
    "id": "bd1461a3"
   },
   "source": [
    "### Stratifying and Splitting Data into Train and Test Data"
   ]
  },
  {
   "cell_type": "code",
   "execution_count": 111,
   "id": "21d5d261",
   "metadata": {
    "colab": {
     "base_uri": "https://localhost:8080/",
     "height": 206
    },
    "executionInfo": {
     "elapsed": 78,
     "status": "ok",
     "timestamp": 1678246066967,
     "user": {
      "displayName": "Rohan Ukkalam",
      "userId": "06420766959062389728"
     },
     "user_tz": 300
    },
    "id": "21d5d261",
    "outputId": "a49e52a1-51d5-49a0-9e1b-d992d378991a"
   },
   "outputs": [
    {
     "data": {
      "text/html": [
       "<div>\n",
       "<style scoped>\n",
       "    .dataframe tbody tr th:only-of-type {\n",
       "        vertical-align: middle;\n",
       "    }\n",
       "\n",
       "    .dataframe tbody tr th {\n",
       "        vertical-align: top;\n",
       "    }\n",
       "\n",
       "    .dataframe thead th {\n",
       "        text-align: right;\n",
       "    }\n",
       "</style>\n",
       "<table border=\"1\" class=\"dataframe\">\n",
       "  <thead>\n",
       "    <tr style=\"text-align: right;\">\n",
       "      <th></th>\n",
       "      <th>price</th>\n",
       "      <th>bed</th>\n",
       "      <th>bath</th>\n",
       "      <th>zip_code</th>\n",
       "      <th>house_size</th>\n",
       "      <th>sold_date</th>\n",
       "    </tr>\n",
       "  </thead>\n",
       "  <tbody>\n",
       "    <tr>\n",
       "      <th>465779</th>\n",
       "      <td>2850000.0</td>\n",
       "      <td>3.0</td>\n",
       "      <td>2.0</td>\n",
       "      <td>10024.0</td>\n",
       "      <td>2018.0</td>\n",
       "      <td>545.807808</td>\n",
       "    </tr>\n",
       "    <tr>\n",
       "      <th>465815</th>\n",
       "      <td>2785000.0</td>\n",
       "      <td>3.0</td>\n",
       "      <td>3.0</td>\n",
       "      <td>10065.0</td>\n",
       "      <td>1677.0</td>\n",
       "      <td>41.985216</td>\n",
       "    </tr>\n",
       "    <tr>\n",
       "      <th>466072</th>\n",
       "      <td>699000.0</td>\n",
       "      <td>3.0</td>\n",
       "      <td>2.0</td>\n",
       "      <td>10032.0</td>\n",
       "      <td>1100.0</td>\n",
       "      <td>556.803936</td>\n",
       "    </tr>\n",
       "    <tr>\n",
       "      <th>466240</th>\n",
       "      <td>4495000.0</td>\n",
       "      <td>2.0</td>\n",
       "      <td>2.0</td>\n",
       "      <td>10012.0</td>\n",
       "      <td>2000.0</td>\n",
       "      <td>85.969728</td>\n",
       "    </tr>\n",
       "    <tr>\n",
       "      <th>466258</th>\n",
       "      <td>3775000.0</td>\n",
       "      <td>2.0</td>\n",
       "      <td>2.0</td>\n",
       "      <td>10007.0</td>\n",
       "      <td>1573.0</td>\n",
       "      <td>246.913056</td>\n",
       "    </tr>\n",
       "  </tbody>\n",
       "</table>\n",
       "</div>"
      ],
      "text/plain": [
       "            price  bed  bath  zip_code  house_size   sold_date\n",
       "465779  2850000.0  3.0   2.0   10024.0      2018.0  545.807808\n",
       "465815  2785000.0  3.0   3.0   10065.0      1677.0   41.985216\n",
       "466072   699000.0  3.0   2.0   10032.0      1100.0  556.803936\n",
       "466240  4495000.0  2.0   2.0   10012.0      2000.0   85.969728\n",
       "466258  3775000.0  2.0   2.0   10007.0      1573.0  246.913056"
      ]
     },
     "execution_count": 111,
     "metadata": {},
     "output_type": "execute_result"
    }
   ],
   "source": [
    "# For regression models\n",
    "reg_df.head()"
   ]
  },
  {
   "cell_type": "code",
   "execution_count": 112,
   "id": "f6366c43",
   "metadata": {
    "colab": {
     "base_uri": "https://localhost:8080/",
     "height": 206
    },
    "executionInfo": {
     "elapsed": 77,
     "status": "ok",
     "timestamp": 1678246066968,
     "user": {
      "displayName": "Rohan Ukkalam",
      "userId": "06420766959062389728"
     },
     "user_tz": 300
    },
    "id": "f6366c43",
    "outputId": "88d22b0e-aec7-491c-b30d-7f26f92cd808"
   },
   "outputs": [
    {
     "data": {
      "text/html": [
       "<div>\n",
       "<style scoped>\n",
       "    .dataframe tbody tr th:only-of-type {\n",
       "        vertical-align: middle;\n",
       "    }\n",
       "\n",
       "    .dataframe tbody tr th {\n",
       "        vertical-align: top;\n",
       "    }\n",
       "\n",
       "    .dataframe thead th {\n",
       "        text-align: right;\n",
       "    }\n",
       "</style>\n",
       "<table border=\"1\" class=\"dataframe\">\n",
       "  <thead>\n",
       "    <tr style=\"text-align: right;\">\n",
       "      <th></th>\n",
       "      <th>bed</th>\n",
       "      <th>bath</th>\n",
       "      <th>zip_code</th>\n",
       "      <th>house_size</th>\n",
       "      <th>sold_date</th>\n",
       "      <th>price_cat</th>\n",
       "    </tr>\n",
       "  </thead>\n",
       "  <tbody>\n",
       "    <tr>\n",
       "      <th>465779</th>\n",
       "      <td>3.0</td>\n",
       "      <td>2.0</td>\n",
       "      <td>10024.0</td>\n",
       "      <td>2018.0</td>\n",
       "      <td>545.807808</td>\n",
       "      <td>3</td>\n",
       "    </tr>\n",
       "    <tr>\n",
       "      <th>465815</th>\n",
       "      <td>3.0</td>\n",
       "      <td>3.0</td>\n",
       "      <td>10065.0</td>\n",
       "      <td>1677.0</td>\n",
       "      <td>41.985216</td>\n",
       "      <td>3</td>\n",
       "    </tr>\n",
       "    <tr>\n",
       "      <th>466072</th>\n",
       "      <td>3.0</td>\n",
       "      <td>2.0</td>\n",
       "      <td>10032.0</td>\n",
       "      <td>1100.0</td>\n",
       "      <td>556.803936</td>\n",
       "      <td>2</td>\n",
       "    </tr>\n",
       "    <tr>\n",
       "      <th>466240</th>\n",
       "      <td>2.0</td>\n",
       "      <td>2.0</td>\n",
       "      <td>10012.0</td>\n",
       "      <td>2000.0</td>\n",
       "      <td>85.969728</td>\n",
       "      <td>3</td>\n",
       "    </tr>\n",
       "    <tr>\n",
       "      <th>466258</th>\n",
       "      <td>2.0</td>\n",
       "      <td>2.0</td>\n",
       "      <td>10007.0</td>\n",
       "      <td>1573.0</td>\n",
       "      <td>246.913056</td>\n",
       "      <td>3</td>\n",
       "    </tr>\n",
       "  </tbody>\n",
       "</table>\n",
       "</div>"
      ],
      "text/plain": [
       "        bed  bath  zip_code  house_size   sold_date  price_cat\n",
       "465779  3.0   2.0   10024.0      2018.0  545.807808          3\n",
       "465815  3.0   3.0   10065.0      1677.0   41.985216          3\n",
       "466072  3.0   2.0   10032.0      1100.0  556.803936          2\n",
       "466240  2.0   2.0   10012.0      2000.0   85.969728          3\n",
       "466258  2.0   2.0   10007.0      1573.0  246.913056          3"
      ]
     },
     "execution_count": 112,
     "metadata": {},
     "output_type": "execute_result"
    }
   ],
   "source": [
    "# For categorical models\n",
    "cat_df.head()"
   ]
  },
  {
   "cell_type": "code",
   "execution_count": 113,
   "id": "2487c6be",
   "metadata": {
    "colab": {
     "base_uri": "https://localhost:8080/"
    },
    "executionInfo": {
     "elapsed": 74,
     "status": "ok",
     "timestamp": 1678246066968,
     "user": {
      "displayName": "Rohan Ukkalam",
      "userId": "06420766959062389728"
     },
     "user_tz": 300
    },
    "id": "2487c6be",
    "outputId": "8233c1ba-e9b9-4158-e6a2-54ddd79ded00"
   },
   "outputs": [
    {
     "data": {
      "text/plain": [
       "(2256, 6)"
      ]
     },
     "execution_count": 113,
     "metadata": {},
     "output_type": "execute_result"
    }
   ],
   "source": [
    "reg_df.shape"
   ]
  },
  {
   "cell_type": "code",
   "execution_count": 114,
   "id": "57868a38",
   "metadata": {
    "colab": {
     "base_uri": "https://localhost:8080/"
    },
    "executionInfo": {
     "elapsed": 67,
     "status": "ok",
     "timestamp": 1678246066970,
     "user": {
      "displayName": "Rohan Ukkalam",
      "userId": "06420766959062389728"
     },
     "user_tz": 300
    },
    "id": "57868a38",
    "outputId": "59da5aaf-8374-491e-865e-099cb8da57ae"
   },
   "outputs": [
    {
     "data": {
      "text/plain": [
       "(2256, 6)"
      ]
     },
     "execution_count": 114,
     "metadata": {},
     "output_type": "execute_result"
    }
   ],
   "source": [
    "cat_df.shape"
   ]
  },
  {
   "cell_type": "code",
   "execution_count": 115,
   "id": "ac8e57b1",
   "metadata": {
    "colab": {
     "base_uri": "https://localhost:8080/"
    },
    "executionInfo": {
     "elapsed": 59,
     "status": "ok",
     "timestamp": 1678246066970,
     "user": {
      "displayName": "Rohan Ukkalam",
      "userId": "06420766959062389728"
     },
     "user_tz": 300
    },
    "id": "ac8e57b1",
    "outputId": "0837ca71-e16f-4e81-f092-b2e6d0001a68"
   },
   "outputs": [
    {
     "name": "stdout",
     "output_type": "stream",
     "text": [
      "(1511, 5) (745, 5)\n",
      "(1511,) (745,)\n"
     ]
    }
   ],
   "source": [
    "# for regression models\n",
    "regx_train, regx_test, regy_train, regy_test = train_test_split(reg_df.drop('price', axis=1), \n",
    "                                                    reg_df['price'], test_size=0.33, random_state = 10)\n",
    "print(regx_train.shape, regx_test.shape)\n",
    "print(regy_train.shape, regy_test.shape)"
   ]
  },
  {
   "cell_type": "code",
   "execution_count": 116,
   "id": "fd398f67",
   "metadata": {
    "colab": {
     "base_uri": "https://localhost:8080/"
    },
    "executionInfo": {
     "elapsed": 55,
     "status": "ok",
     "timestamp": 1678246066971,
     "user": {
      "displayName": "Rohan Ukkalam",
      "userId": "06420766959062389728"
     },
     "user_tz": 300
    },
    "id": "fd398f67",
    "outputId": "6909c982-bc66-4b94-fbdc-d3b4be9aa16c"
   },
   "outputs": [
    {
     "name": "stdout",
     "output_type": "stream",
     "text": [
      "(1511, 5) (745, 5)\n",
      "(1511,) (745,)\n"
     ]
    }
   ],
   "source": [
    "# for categorical models \n",
    "catx_train, catx_test, caty_train, caty_test = train_test_split(cat_df.drop('price_cat', axis=1), \n",
    "                                                    cat_df['price_cat'], test_size=0.33, random_state = 10)\n",
    "print(catx_train.shape, catx_test.shape)\n",
    "print(caty_train.shape, caty_test.shape)"
   ]
  },
  {
   "cell_type": "code",
   "execution_count": 117,
   "id": "36c8d6db",
   "metadata": {
    "executionInfo": {
     "elapsed": 48,
     "status": "ok",
     "timestamp": 1678246066971,
     "user": {
      "displayName": "Rohan Ukkalam",
      "userId": "06420766959062389728"
     },
     "user_tz": 300
    },
    "id": "36c8d6db"
   },
   "outputs": [],
   "source": [
    "vregx_train, vregx_test, vregy_train, vregy_test = train_test_split(valid_reg_df.drop('price', axis=1), \n",
    "                                                    valid_reg_df['price'], test_size=0.33, random_state = 10)\n",
    "vcatx_train, vcatx_test, vcaty_train, vcaty_test = train_test_split(valid_cat_df.drop('price_cat', axis=1), \n",
    "                                                    valid_cat_df['price_cat'], test_size=0.33, random_state = 10)"
   ]
  },
  {
   "cell_type": "markdown",
   "id": "2fa800db",
   "metadata": {
    "id": "2fa800db"
   },
   "source": [
    "### Feature Scaling"
   ]
  },
  {
   "cell_type": "code",
   "execution_count": 118,
   "id": "fb2bbba4",
   "metadata": {
    "executionInfo": {
     "elapsed": 49,
     "status": "ok",
     "timestamp": 1678246066972,
     "user": {
      "displayName": "Rohan Ukkalam",
      "userId": "06420766959062389728"
     },
     "user_tz": 300
    },
    "id": "fb2bbba4"
   },
   "outputs": [],
   "source": [
    "scaler = StandardScaler()\n",
    "regx_train = scaler.fit_transform(regx_train)\n",
    "catx_train = scaler.fit_transform(catx_train)\n",
    "\n",
    "regx_test = scaler.transform(regx_test)\n",
    "catx_test = scaler.transform(catx_test)\n",
    "\n",
    "vregx_train = scaler.fit_transform(vregx_train)\n",
    "vcatx_train = scaler.fit_transform(vcatx_train)\n",
    "vregx_test = scaler.transform(vregx_test)\n",
    "vcatx_test = scaler.transform(vcatx_test)"
   ]
  },
  {
   "cell_type": "markdown",
   "id": "10c74ede",
   "metadata": {
    "id": "10c74ede"
   },
   "source": [
    "## Machine Learning Algorithms"
   ]
  },
  {
   "cell_type": "markdown",
   "id": "b8aa3272",
   "metadata": {
    "id": "b8aa3272"
   },
   "source": [
    "### Logistic Regression"
   ]
  },
  {
   "cell_type": "code",
   "execution_count": 61,
   "id": "971b0521",
   "metadata": {
    "executionInfo": {
     "elapsed": 281,
     "status": "ok",
     "timestamp": 1678246067207,
     "user": {
      "displayName": "Rohan Ukkalam",
      "userId": "06420766959062389728"
     },
     "user_tz": 300
    },
    "id": "971b0521"
   },
   "outputs": [],
   "source": [
    "from sklearn.feature_selection import SelectFromModel, SelectKBest, f_regression, f_classif, chi2\n",
    "from sklearn.metrics import accuracy_score\n",
    "from sklearn.linear_model import LogisticRegression"
   ]
  },
  {
   "cell_type": "code",
   "execution_count": 62,
   "id": "7abcb0f0",
   "metadata": {
    "executionInfo": {
     "elapsed": 11,
     "status": "ok",
     "timestamp": 1678246067207,
     "user": {
      "displayName": "Rohan Ukkalam",
      "userId": "06420766959062389728"
     },
     "user_tz": 300
    },
    "id": "7abcb0f0"
   },
   "outputs": [],
   "source": [
    "lr_model = LogisticRegression(max_iter=150)\n",
    "lr_model.fit(catx_train, caty_train)\n",
    "lry_pred = lr_model.predict(catx_test)"
   ]
  },
  {
   "cell_type": "code",
   "execution_count": 63,
   "id": "b3fb0c3d",
   "metadata": {
    "colab": {
     "base_uri": "https://localhost:8080/"
    },
    "executionInfo": {
     "elapsed": 10,
     "status": "ok",
     "timestamp": 1678246067209,
     "user": {
      "displayName": "Rohan Ukkalam",
      "userId": "06420766959062389728"
     },
     "user_tz": 300
    },
    "id": "b3fb0c3d",
    "outputId": "dc7791b9-e989-4bba-a285-2c7991f85bc9"
   },
   "outputs": [
    {
     "name": "stdout",
     "output_type": "stream",
     "text": [
      "Logistic regression accuracy: 0.8187919463087249\n"
     ]
    }
   ],
   "source": [
    "lr_accuracy = accuracy_score(lry_pred, caty_test)\n",
    "model_accuracy = {'Log_Reg': lr_accuracy}\n",
    "print(f\"Logistic regression accuracy: {lr_accuracy}\")"
   ]
  },
  {
   "cell_type": "markdown",
   "id": "2ab3a077",
   "metadata": {
    "id": "2ab3a077"
   },
   "source": [
    "#### Confusion Matrix"
   ]
  },
  {
   "cell_type": "code",
   "execution_count": 64,
   "id": "4962e6f7",
   "metadata": {
    "colab": {
     "base_uri": "https://localhost:8080/",
     "height": 279
    },
    "executionInfo": {
     "elapsed": 398,
     "status": "ok",
     "timestamp": 1678246067600,
     "user": {
      "displayName": "Rohan Ukkalam",
      "userId": "06420766959062389728"
     },
     "user_tz": 300
    },
    "id": "4962e6f7",
    "outputId": "854d91f1-28cc-4f40-e838-28cfd63ce468"
   },
   "outputs": [
    {
     "data": {
      "image/png": "[encoded data removed]",
      "text/plain": [
       "<Figure size 640x480 with 2 Axes>"
      ]
     },
     "metadata": {},
     "output_type": "display_data"
    }
   ],
   "source": [
    "lr_cm = confusion_matrix(caty_test, lry_pred, labels=lr_model.classes_)\n",
    "disp = ConfusionMatrixDisplay(confusion_matrix=lr_cm, display_labels=lr_model.classes_)\n",
    "disp.plot()\n",
    "plt.grid(False)\n",
    "plt.show()"
   ]
  },
  {
   "cell_type": "markdown",
   "id": "9397fc10",
   "metadata": {
    "id": "9397fc10"
   },
   "source": [
    "### Multiple Linear Regression"
   ]
  },
  {
   "cell_type": "code",
   "execution_count": 65,
   "id": "4ec8effd",
   "metadata": {
    "executionInfo": {
     "elapsed": 60,
     "status": "ok",
     "timestamp": 1678246067601,
     "user": {
      "displayName": "Rohan Ukkalam",
      "userId": "06420766959062389728"
     },
     "user_tz": 300
    },
    "id": "4ec8effd"
   },
   "outputs": [],
   "source": [
    "from sklearn.linear_model import LinearRegression"
   ]
  },
  {
   "cell_type": "code",
   "execution_count": 66,
   "id": "d18612f6",
   "metadata": {
    "colab": {
     "base_uri": "https://localhost:8080/"
    },
    "executionInfo": {
     "elapsed": 62,
     "status": "ok",
     "timestamp": 1678246067604,
     "user": {
      "displayName": "Rohan Ukkalam",
      "userId": "06420766959062389728"
     },
     "user_tz": 300
    },
    "id": "d18612f6",
    "outputId": "4b861d09-4601-40a5-d908-51b26a451092"
   },
   "outputs": [
    {
     "name": "stdout",
     "output_type": "stream",
     "text": [
      "0.5193123723368086\n"
     ]
    }
   ],
   "source": [
    "linr_model = LinearRegression()\n",
    "linr_model.fit(regx_train, regy_train)\n",
    "model_accuracy['Lin_Reg'] = linr_model.score(regx_test, regy_test)\n",
    "print(linr_model.score(regx_test, regy_test))"
   ]
  },
  {
   "cell_type": "code",
   "execution_count": 67,
   "id": "33c7fb15",
   "metadata": {
    "colab": {
     "base_uri": "https://localhost:8080/"
    },
    "executionInfo": {
     "elapsed": 58,
     "status": "ok",
     "timestamp": 1678246067606,
     "user": {
      "displayName": "Rohan Ukkalam",
      "userId": "06420766959062389728"
     },
     "user_tz": 300
    },
    "id": "33c7fb15",
    "outputId": "86e75e8b-8232-4f45-c725-5b52456d3e0e"
   },
   "outputs": [
    {
     "data": {
      "text/plain": [
       "(745, 5)"
      ]
     },
     "execution_count": 67,
     "metadata": {},
     "output_type": "execute_result"
    }
   ],
   "source": [
    "regx_test.shape"
   ]
  },
  {
   "cell_type": "code",
   "execution_count": 68,
   "id": "54d30458",
   "metadata": {
    "colab": {
     "base_uri": "https://localhost:8080/"
    },
    "executionInfo": {
     "elapsed": 53,
     "status": "ok",
     "timestamp": 1678246067608,
     "user": {
      "displayName": "Rohan Ukkalam",
      "userId": "06420766959062389728"
     },
     "user_tz": 300
    },
    "id": "54d30458",
    "outputId": "13d18951-2429-49af-da9b-2753c65112ff"
   },
   "outputs": [
    {
     "data": {
      "text/plain": [
       "(745,)"
      ]
     },
     "execution_count": 68,
     "metadata": {},
     "output_type": "execute_result"
    }
   ],
   "source": [
    "regy_test.shape"
   ]
  },
  {
   "cell_type": "code",
   "execution_count": 69,
   "id": "a354e913",
   "metadata": {
    "colab": {
     "base_uri": "https://localhost:8080/",
     "height": 206
    },
    "executionInfo": {
     "elapsed": 48,
     "status": "ok",
     "timestamp": 1678246067609,
     "user": {
      "displayName": "Rohan Ukkalam",
      "userId": "06420766959062389728"
     },
     "user_tz": 300
    },
    "id": "a354e913",
    "outputId": "8aad4266-6359-456e-c6bd-5a665bd7b579"
   },
   "outputs": [
    {
     "data": {
      "text/html": [
       "<div>\n",
       "<style scoped>\n",
       "    .dataframe tbody tr th:only-of-type {\n",
       "        vertical-align: middle;\n",
       "    }\n",
       "\n",
       "    .dataframe tbody tr th {\n",
       "        vertical-align: top;\n",
       "    }\n",
       "\n",
       "    .dataframe thead th {\n",
       "        text-align: right;\n",
       "    }\n",
       "</style>\n",
       "<table border=\"1\" class=\"dataframe\">\n",
       "  <thead>\n",
       "    <tr style=\"text-align: right;\">\n",
       "      <th></th>\n",
       "      <th>Actual value</th>\n",
       "      <th>Predicted value</th>\n",
       "    </tr>\n",
       "  </thead>\n",
       "  <tbody>\n",
       "    <tr>\n",
       "      <th>541783</th>\n",
       "      <td>1100000.0</td>\n",
       "      <td>1.241376e+06</td>\n",
       "    </tr>\n",
       "    <tr>\n",
       "      <th>829237</th>\n",
       "      <td>1150000.0</td>\n",
       "      <td>2.000617e+06</td>\n",
       "    </tr>\n",
       "    <tr>\n",
       "      <th>768220</th>\n",
       "      <td>8495000.0</td>\n",
       "      <td>4.551977e+06</td>\n",
       "    </tr>\n",
       "    <tr>\n",
       "      <th>776314</th>\n",
       "      <td>10500000.0</td>\n",
       "      <td>5.112458e+06</td>\n",
       "    </tr>\n",
       "    <tr>\n",
       "      <th>756182</th>\n",
       "      <td>3250000.0</td>\n",
       "      <td>3.716847e+06</td>\n",
       "    </tr>\n",
       "  </tbody>\n",
       "</table>\n",
       "</div>"
      ],
      "text/plain": [
       "        Actual value  Predicted value\n",
       "541783     1100000.0     1.241376e+06\n",
       "829237     1150000.0     2.000617e+06\n",
       "768220     8495000.0     4.551977e+06\n",
       "776314    10500000.0     5.112458e+06\n",
       "756182     3250000.0     3.716847e+06"
      ]
     },
     "execution_count": 69,
     "metadata": {},
     "output_type": "execute_result"
    }
   ],
   "source": [
    "linry_pred = linr_model.predict(regx_test)\n",
    "\n",
    "linr_diff = pd.DataFrame({'Actual value': regy_test,\n",
    "                         'Predicted value': linry_pred})\n",
    "linr_diff.head()"
   ]
  },
  {
   "cell_type": "code",
   "execution_count": 70,
   "id": "20e5276a",
   "metadata": {
    "colab": {
     "base_uri": "https://localhost:8080/"
    },
    "executionInfo": {
     "elapsed": 44,
     "status": "ok",
     "timestamp": 1678246067610,
     "user": {
      "displayName": "Rohan Ukkalam",
      "userId": "06420766959062389728"
     },
     "user_tz": 300
    },
    "id": "20e5276a",
    "outputId": "6ee287d1-a365-4c05-f675-775db9f1ef53"
   },
   "outputs": [
    {
     "name": "stdout",
     "output_type": "stream",
     "text": [
      "Mean Absolute Error: 814421.2427145267\n",
      "Mean Square Error: 1657759076844.7983\n",
      "Root Mean Square Error: 1287539.932136009\n"
     ]
    }
   ],
   "source": [
    "linr_meanAbErr = mean_absolute_error(regy_test, linry_pred)\n",
    "linr_meanSqErr = mean_squared_error(regy_test, linry_pred)\n",
    "linr_rootMeanSqErr = np.sqrt(linr_meanSqErr)\n",
    "\n",
    "print('Mean Absolute Error:', linr_meanAbErr)\n",
    "print('Mean Square Error:', linr_meanSqErr)\n",
    "print('Root Mean Square Error:', linr_rootMeanSqErr)"
   ]
  },
  {
   "cell_type": "code",
   "execution_count": 71,
   "id": "85ae9f90",
   "metadata": {
    "colab": {
     "base_uri": "https://localhost:8080/"
    },
    "executionInfo": {
     "elapsed": 40,
     "status": "ok",
     "timestamp": 1678246067611,
     "user": {
      "displayName": "Rohan Ukkalam",
      "userId": "06420766959062389728"
     },
     "user_tz": 300
    },
    "id": "85ae9f90",
    "outputId": "b4edbfe2-98d5-4d7b-c302-a344a1d5e2ba"
   },
   "outputs": [
    {
     "name": "stdout",
     "output_type": "stream",
     "text": [
      "Normalized Mean Absolute Error: 0.023312472955904585\n",
      "Normalized Mean Square Error: 47452.671442530365\n",
      "Normalized Root Mean Square Error: 0.036855300762444795\n"
     ]
    }
   ],
   "source": [
    "priceRange = df['price'].max() - df['price'].min()\n",
    "\n",
    "print('Normalized Mean Absolute Error:', linr_meanAbErr/priceRange)\n",
    "print('Normalized Mean Square Error:', linr_meanSqErr/priceRange)\n",
    "print('Normalized Root Mean Square Error:', linr_rootMeanSqErr/priceRange)"
   ]
  },
  {
   "cell_type": "markdown",
   "id": "451b9f36",
   "metadata": {
    "id": "451b9f36"
   },
   "source": [
    "### Decision Tree Classifier"
   ]
  },
  {
   "cell_type": "code",
   "execution_count": 72,
   "id": "9e97f20f",
   "metadata": {
    "executionInfo": {
     "elapsed": 36,
     "status": "ok",
     "timestamp": 1678246067612,
     "user": {
      "displayName": "Rohan Ukkalam",
      "userId": "06420766959062389728"
     },
     "user_tz": 300
    },
    "id": "9e97f20f"
   },
   "outputs": [],
   "source": [
    "from sklearn.tree import DecisionTreeClassifier"
   ]
  },
  {
   "cell_type": "code",
   "execution_count": 107,
   "id": "7c5d0f12",
   "metadata": {
    "executionInfo": {
     "elapsed": 36,
     "status": "ok",
     "timestamp": 1678246067613,
     "user": {
      "displayName": "Rohan Ukkalam",
      "userId": "06420766959062389728"
     },
     "user_tz": 300
    },
    "id": "7c5d0f12"
   },
   "outputs": [],
   "source": [
    "dtc_model = DecisionTreeClassifier()\n",
    "dtc_model.fit(catx_train, caty_train)\n",
    "dtcy_pred = dtc_model.predict(catx_test)"
   ]
  },
  {
   "cell_type": "code",
   "execution_count": 108,
   "id": "499b6ad0",
   "metadata": {
    "colab": {
     "base_uri": "https://localhost:8080/"
    },
    "executionInfo": {
     "elapsed": 37,
     "status": "ok",
     "timestamp": 1678246067614,
     "user": {
      "displayName": "Rohan Ukkalam",
      "userId": "06420766959062389728"
     },
     "user_tz": 300
    },
    "id": "499b6ad0",
    "outputId": "c30d1913-c4e4-4b0f-f641-f5b3221e37b5"
   },
   "outputs": [
    {
     "name": "stdout",
     "output_type": "stream",
     "text": [
      "Decision tree classification accuracy: 0.978523489932886\n"
     ]
    }
   ],
   "source": [
    "dtc_accuracy = accuracy_score(dtcy_pred, caty_test)\n",
    "model_accuracy['DTC'] = dtc_accuracy\n",
    "print(f\"Decision tree classification accuracy: {dtc_accuracy}\")"
   ]
  },
  {
   "cell_type": "code",
   "execution_count": 109,
   "id": "1a5f8e53",
   "metadata": {
    "colab": {
     "base_uri": "https://localhost:8080/",
     "height": 279
    },
    "executionInfo": {
     "elapsed": 575,
     "status": "ok",
     "timestamp": 1678246068156,
     "user": {
      "displayName": "Rohan Ukkalam",
      "userId": "06420766959062389728"
     },
     "user_tz": 300
    },
    "id": "1a5f8e53",
    "outputId": "b0278549-d896-441f-b83b-3f2ff50cc272"
   },
   "outputs": [
    {
     "data": {
      "image/png": "[encoded data removed]",
      "text/plain": [
       "<Figure size 640x480 with 2 Axes>"
      ]
     },
     "metadata": {},
     "output_type": "display_data"
    }
   ],
   "source": [
    "dtc_cm = confusion_matrix(caty_test, dtcy_pred, labels=dtc_model.classes_)\n",
    "disp = ConfusionMatrixDisplay(confusion_matrix=dtc_cm, display_labels=dtc_model.classes_)\n",
    "disp.plot()\n",
    "plt.grid(False)\n",
    "plt.show()"
   ]
  },
  {
   "cell_type": "code",
   "execution_count": 76,
   "id": "f3ca406f",
   "metadata": {
    "colab": {
     "base_uri": "https://localhost:8080/",
     "height": 206
    },
    "executionInfo": {
     "elapsed": 21,
     "status": "ok",
     "timestamp": 1678246068159,
     "user": {
      "displayName": "Rohan Ukkalam",
      "userId": "06420766959062389728"
     },
     "user_tz": 300
    },
    "id": "f3ca406f",
    "outputId": "e57531c1-7cc1-49d1-c813-c32825d31e46"
   },
   "outputs": [
    {
     "data": {
      "text/html": [
       "<div>\n",
       "<style scoped>\n",
       "    .dataframe tbody tr th:only-of-type {\n",
       "        vertical-align: middle;\n",
       "    }\n",
       "\n",
       "    .dataframe tbody tr th {\n",
       "        vertical-align: top;\n",
       "    }\n",
       "\n",
       "    .dataframe thead th {\n",
       "        text-align: right;\n",
       "    }\n",
       "</style>\n",
       "<table border=\"1\" class=\"dataframe\">\n",
       "  <thead>\n",
       "    <tr style=\"text-align: right;\">\n",
       "      <th></th>\n",
       "      <th>bed</th>\n",
       "      <th>bath</th>\n",
       "      <th>zip_code</th>\n",
       "      <th>house_size</th>\n",
       "      <th>sold_date</th>\n",
       "      <th>price_cat</th>\n",
       "    </tr>\n",
       "  </thead>\n",
       "  <tbody>\n",
       "    <tr>\n",
       "      <th>465779</th>\n",
       "      <td>3.0</td>\n",
       "      <td>2.0</td>\n",
       "      <td>10024.0</td>\n",
       "      <td>2018.0</td>\n",
       "      <td>545.807808</td>\n",
       "      <td>3</td>\n",
       "    </tr>\n",
       "    <tr>\n",
       "      <th>465815</th>\n",
       "      <td>3.0</td>\n",
       "      <td>3.0</td>\n",
       "      <td>10065.0</td>\n",
       "      <td>1677.0</td>\n",
       "      <td>41.985216</td>\n",
       "      <td>3</td>\n",
       "    </tr>\n",
       "    <tr>\n",
       "      <th>466072</th>\n",
       "      <td>3.0</td>\n",
       "      <td>2.0</td>\n",
       "      <td>10032.0</td>\n",
       "      <td>1100.0</td>\n",
       "      <td>556.803936</td>\n",
       "      <td>2</td>\n",
       "    </tr>\n",
       "    <tr>\n",
       "      <th>466240</th>\n",
       "      <td>2.0</td>\n",
       "      <td>2.0</td>\n",
       "      <td>10012.0</td>\n",
       "      <td>2000.0</td>\n",
       "      <td>85.969728</td>\n",
       "      <td>3</td>\n",
       "    </tr>\n",
       "    <tr>\n",
       "      <th>466258</th>\n",
       "      <td>2.0</td>\n",
       "      <td>2.0</td>\n",
       "      <td>10007.0</td>\n",
       "      <td>1573.0</td>\n",
       "      <td>246.913056</td>\n",
       "      <td>3</td>\n",
       "    </tr>\n",
       "  </tbody>\n",
       "</table>\n",
       "</div>"
      ],
      "text/plain": [
       "        bed  bath  zip_code  house_size   sold_date  price_cat\n",
       "465779  3.0   2.0   10024.0      2018.0  545.807808          3\n",
       "465815  3.0   3.0   10065.0      1677.0   41.985216          3\n",
       "466072  3.0   2.0   10032.0      1100.0  556.803936          2\n",
       "466240  2.0   2.0   10012.0      2000.0   85.969728          3\n",
       "466258  2.0   2.0   10007.0      1573.0  246.913056          3"
      ]
     },
     "execution_count": 76,
     "metadata": {},
     "output_type": "execute_result"
    }
   ],
   "source": [
    "cat_df.head()"
   ]
  },
  {
   "cell_type": "code",
   "execution_count": 77,
   "id": "cb2aed54",
   "metadata": {
    "colab": {
     "base_uri": "https://localhost:8080/",
     "height": 983
    },
    "executionInfo": {
     "elapsed": 10350,
     "status": "ok",
     "timestamp": 1678246078492,
     "user": {
      "displayName": "Rohan Ukkalam",
      "userId": "06420766959062389728"
     },
     "user_tz": 300
    },
    "id": "cb2aed54",
    "outputId": "03099049-6ecf-4018-dd34-86b58b9cf75e"
   },
   "outputs": [
    {
     "data": {
      "image/png": "[encoded data removed]",
      "text/plain": [
       "<Figure size 1200x1200 with 1 Axes>"
      ]
     },
     "metadata": {},
     "output_type": "display_data"
    }
   ],
   "source": [
    "from sklearn import tree\n",
    "\n",
    "fn = ['bed', 'bath', 'zip_code', 'house_size', 'sold_date']\n",
    "cn = ['0', '1', '2', '3', '4']\n",
    "\n",
    "fig, axes = plt.subplots(nrows = 1,ncols = 1,figsize = (4,4), dpi=300)\n",
    "\n",
    "tree.plot_tree(dtc_model,\n",
    "               feature_names = fn, \n",
    "               class_names=cn,\n",
    "               filled = True);\n",
    "fig.savefig('imagename.png')"
   ]
  },
  {
   "cell_type": "markdown",
   "id": "817bdb54",
   "metadata": {
    "id": "817bdb54"
   },
   "source": [
    "### Decision Tree Regressor"
   ]
  },
  {
   "cell_type": "code",
   "execution_count": 119,
   "id": "ab5e877d",
   "metadata": {
    "executionInfo": {
     "elapsed": 41,
     "status": "ok",
     "timestamp": 1678246078495,
     "user": {
      "displayName": "Rohan Ukkalam",
      "userId": "06420766959062389728"
     },
     "user_tz": 300
    },
    "id": "ab5e877d"
   },
   "outputs": [],
   "source": [
    "from sklearn.tree import DecisionTreeRegressor\n",
    "\n",
    "dtr_model = DecisionTreeRegressor()\n",
    "dtr_model.fit(regx_train, regy_train)\n",
    "dtry_pred = dtr_model.predict(regx_test)"
   ]
  },
  {
   "cell_type": "code",
   "execution_count": 120,
   "id": "d1c5df74",
   "metadata": {
    "colab": {
     "base_uri": "https://localhost:8080/"
    },
    "executionInfo": {
     "elapsed": 366,
     "status": "ok",
     "timestamp": 1678246078824,
     "user": {
      "displayName": "Rohan Ukkalam",
      "userId": "06420766959062389728"
     },
     "user_tz": 300
    },
    "id": "d1c5df74",
    "outputId": "cf05782a-9bbc-41ba-f461-b2693d2b11aa"
   },
   "outputs": [
    {
     "name": "stdout",
     "output_type": "stream",
     "text": [
      "Decision tree classification accuracy: 0.8456375838926175\n"
     ]
    }
   ],
   "source": [
    "dtr_accuracy = accuracy_score(dtry_pred, regy_test)\n",
    "model_accuracy['DTR'] = dtr_accuracy\n",
    "print(f\"Decision tree classification accuracy: {dtr_accuracy}\")"
   ]
  },
  {
   "cell_type": "code",
   "execution_count": 121,
   "id": "b2a40d01",
   "metadata": {
    "colab": {
     "base_uri": "https://localhost:8080/"
    },
    "executionInfo": {
     "elapsed": 39,
     "status": "ok",
     "timestamp": 1678246078829,
     "user": {
      "displayName": "Rohan Ukkalam",
      "userId": "06420766959062389728"
     },
     "user_tz": 300
    },
    "id": "b2a40d01",
    "outputId": "b63628e2-7785-492c-abb4-452027d94d54"
   },
   "outputs": [
    {
     "data": {
      "text/plain": [
       "0.9852825565825563"
      ]
     },
     "execution_count": 121,
     "metadata": {},
     "output_type": "execute_result"
    }
   ],
   "source": [
    "from sklearn.metrics import r2_score\n",
    "model_accuracy['DTR_R2'] = r2_score(regy_test, dtry_pred)\n",
    "r2_score(regy_test, dtry_pred)"
   ]
  },
  {
   "cell_type": "markdown",
   "id": "85f24ac3",
   "metadata": {
    "id": "85f24ac3"
   },
   "source": [
    "### XGBoost"
   ]
  },
  {
   "cell_type": "code",
   "execution_count": 81,
   "id": "5e968f71",
   "metadata": {
    "colab": {
     "base_uri": "https://localhost:8080/",
     "height": 266
    },
    "executionInfo": {
     "elapsed": 34,
     "status": "ok",
     "timestamp": 1678246078830,
     "user": {
      "displayName": "Rohan Ukkalam",
      "userId": "06420766959062389728"
     },
     "user_tz": 300
    },
    "id": "5e968f71",
    "outputId": "bbef0e2f-c3ca-4e22-af68-dd33c9dbf001"
   },
   "outputs": [
    {
     "name": "stdout",
     "output_type": "stream",
     "text": [
      "[23:33:11] WARNING: /Users/runner/work/xgboost/xgboost/python-package/build/temp.macosx-10.9-x86_64-cpython-38/xgboost/src/objective/regression_obj.cu:213: reg:linear is now deprecated in favor of reg:squarederror.\n"
     ]
    },
    {
     "data": {
      "text/plain": [
       "XGBRegressor(alpha=10, base_score=None, booster=None, callbacks=None,\n",
       "             colsample_bylevel=None, colsample_bynode=None,\n",
       "             colsample_bytree=0.3, early_stopping_rounds=None,\n",
       "             enable_categorical=False, eval_metric=None, feature_types=None,\n",
       "             gamma=None, gpu_id=None, grow_policy=None, importance_type=None,\n",
       "             interaction_constraints=None, learning_rate=0.1, max_bin=None,\n",
       "             max_cat_threshold=None, max_cat_to_onehot=None,\n",
       "             max_delta_step=None, max_depth=5, max_leaves=None,\n",
       "             min_child_weight=None, missing=nan, monotone_constraints=None,\n",
       "             n_estimators=10, n_jobs=None, num_parallel_tree=None,\n",
       "             objective='reg:linear', ...)"
      ]
     },
     "execution_count": 81,
     "metadata": {},
     "output_type": "execute_result"
    }
   ],
   "source": [
    "import xgboost as xgb\n",
    "from sklearn.metrics import mean_squared_error\n",
    "\n",
    "xg_reg = xgb.XGBRegressor(objective ='reg:linear', colsample_bytree = 0.3, learning_rate = 0.1,\n",
    "                max_depth = 5, alpha = 10, n_estimators = 10)\n",
    "\n",
    "xg_reg.fit(regx_train, regy_train)"
   ]
  },
  {
   "cell_type": "code",
   "execution_count": 82,
   "id": "7a0e281c",
   "metadata": {
    "executionInfo": {
     "elapsed": 26,
     "status": "ok",
     "timestamp": 1678246078832,
     "user": {
      "displayName": "Rohan Ukkalam",
      "userId": "06420766959062389728"
     },
     "user_tz": 300
    },
    "id": "7a0e281c"
   },
   "outputs": [],
   "source": [
    "# Make predictionss\n",
    "y_pred = xg_reg.predict(regx_test)"
   ]
  },
  {
   "cell_type": "code",
   "execution_count": 83,
   "id": "c0f1b34b",
   "metadata": {
    "colab": {
     "base_uri": "https://localhost:8080/"
    },
    "executionInfo": {
     "elapsed": 26,
     "status": "ok",
     "timestamp": 1678246078833,
     "user": {
      "displayName": "Rohan Ukkalam",
      "userId": "06420766959062389728"
     },
     "user_tz": 300
    },
    "id": "c0f1b34b",
    "outputId": "f1593e00-22f9-4679-b405-dc83faf5faaf"
   },
   "outputs": [
    {
     "name": "stdout",
     "output_type": "stream",
     "text": [
      "Mean Absolute Error: 0.024002902339964056\n",
      "Mean Square Error: 68306.78273942\n",
      "Root Mean Square Error: 0.04421824905111156\n"
     ]
    }
   ],
   "source": [
    "xgb_meanAbErr = mean_absolute_error(regy_test, y_pred)\n",
    "xgb_meanSqErr = mean_squared_error(regy_test, y_pred)\n",
    "xgb_rootMeanSqErr = np.sqrt(xgb_meanSqErr)\n",
    "\n",
    "print('Mean Absolute Error:', xgb_meanAbErr/priceRange)\n",
    "print('Mean Square Error:', xgb_meanSqErr/priceRange)\n",
    "print('Root Mean Square Error:', xgb_rootMeanSqErr/priceRange)"
   ]
  },
  {
   "cell_type": "markdown",
   "id": "a97b494a",
   "metadata": {
    "id": "a97b494a"
   },
   "source": [
    "### Random Forest"
   ]
  },
  {
   "cell_type": "code",
   "execution_count": 84,
   "id": "1c10550b",
   "metadata": {
    "executionInfo": {
     "elapsed": 269,
     "status": "ok",
     "timestamp": 1678246079080,
     "user": {
      "displayName": "Rohan Ukkalam",
      "userId": "06420766959062389728"
     },
     "user_tz": 300
    },
    "id": "1c10550b"
   },
   "outputs": [],
   "source": [
    "from sklearn.ensemble import RandomForestClassifier"
   ]
  },
  {
   "cell_type": "code",
   "execution_count": 85,
   "id": "ba78e2d3",
   "metadata": {
    "executionInfo": {
     "elapsed": 17,
     "status": "ok",
     "timestamp": 1678246079082,
     "user": {
      "displayName": "Rohan Ukkalam",
      "userId": "06420766959062389728"
     },
     "user_tz": 300
    },
    "id": "ba78e2d3"
   },
   "outputs": [],
   "source": [
    "rf_model = RandomForestClassifier()\n",
    "rf_model.fit(catx_train, caty_train)\n",
    "rfy_pred = rf_model.predict(catx_test)"
   ]
  },
  {
   "cell_type": "code",
   "execution_count": 86,
   "id": "246e8413",
   "metadata": {
    "colab": {
     "base_uri": "https://localhost:8080/"
    },
    "executionInfo": {
     "elapsed": 16,
     "status": "ok",
     "timestamp": 1678246079083,
     "user": {
      "displayName": "Rohan Ukkalam",
      "userId": "06420766959062389728"
     },
     "user_tz": 300
    },
    "id": "246e8413",
    "outputId": "c99c54a5-7586-4bd6-f2a3-9a3f1fbf48c6"
   },
   "outputs": [
    {
     "name": "stdout",
     "output_type": "stream",
     "text": [
      "Random Forrest accuracy: 0.9812080536912752\n"
     ]
    }
   ],
   "source": [
    "rf_accuracy = accuracy_score(rfy_pred, caty_test)\n",
    "model_accuracy['Random Forest'] = rf_accuracy\n",
    "print(f\"Random Forrest accuracy: {rf_accuracy}\")"
   ]
  },
  {
   "cell_type": "code",
   "execution_count": 87,
   "id": "2f3836f4",
   "metadata": {
    "colab": {
     "base_uri": "https://localhost:8080/",
     "height": 279
    },
    "executionInfo": {
     "elapsed": 26,
     "status": "ok",
     "timestamp": 1678246079350,
     "user": {
      "displayName": "Rohan Ukkalam",
      "userId": "06420766959062389728"
     },
     "user_tz": 300
    },
    "id": "2f3836f4",
    "outputId": "940b2667-776b-4017-f1bd-f585d6db4205"
   },
   "outputs": [
    {
     "data": {
      "image/png": "[encoded data removed]",
      "text/plain": [
       "<Figure size 640x480 with 2 Axes>"
      ]
     },
     "metadata": {},
     "output_type": "display_data"
    }
   ],
   "source": [
    "# Confusion Matrix\n",
    "\n",
    "rf_cm = confusion_matrix(caty_test, rfy_pred, labels=rf_model.classes_)\n",
    "disp = ConfusionMatrixDisplay(confusion_matrix=rf_cm, display_labels=rf_model.classes_)\n",
    "disp.plot()\n",
    "plt.grid(False)\n",
    "plt.show()"
   ]
  },
  {
   "cell_type": "code",
   "execution_count": 123,
   "id": "gwSs6aCg6OpF",
   "metadata": {
    "colab": {
     "base_uri": "https://localhost:8080/"
    },
    "executionInfo": {
     "elapsed": 308,
     "status": "ok",
     "timestamp": 1678246079636,
     "user": {
      "displayName": "Rohan Ukkalam",
      "userId": "06420766959062389728"
     },
     "user_tz": 300
    },
    "id": "gwSs6aCg6OpF",
    "outputId": "d8469bef-9ee9-4993-e963-a91680426e47"
   },
   "outputs": [
    {
     "name": "stdout",
     "output_type": "stream",
     "text": [
      "Log_Reg : 0.8187919463087249\n",
      "Lin_Reg : 0.5193123723368086\n",
      "DTC : 0.978523489932886\n",
      "DTR : 0.8456375838926175\n",
      "DTR_R2 : 0.9852825565825563\n",
      "Random Forest : 0.9812080536912752\n"
     ]
    }
   ],
   "source": [
    "for key in model_accuracy:\n",
    "    print(f\"{key} : {model_accuracy[key]}\")"
   ]
  },
  {
   "cell_type": "markdown",
   "id": "lRQVUDPA65qi",
   "metadata": {
    "id": "lRQVUDPA65qi"
   },
   "source": [
    "The two models to continue on with are thus Random Forest and DTC/DTR"
   ]
  },
  {
   "cell_type": "code",
   "execution_count": 124,
   "id": "-pd0y-2n721U",
   "metadata": {
    "colab": {
     "base_uri": "https://localhost:8080/"
    },
    "executionInfo": {
     "elapsed": 44,
     "status": "ok",
     "timestamp": 1678246079638,
     "user": {
      "displayName": "Rohan Ukkalam",
      "userId": "06420766959062389728"
     },
     "user_tz": 300
    },
    "id": "-pd0y-2n721U",
    "outputId": "a717bc0c-250d-45b3-dfe5-5cd804609c12"
   },
   "outputs": [
    {
     "data": {
      "text/plain": [
       "0.12052852724952168"
      ]
     },
     "execution_count": 124,
     "metadata": {},
     "output_type": "execute_result"
    }
   ],
   "source": [
    "#dtr_model.fit(vregx_train, vregy_train)\n",
    "dtrv_pred = dtr_model.predict(vregx_test)\n",
    "r2_score(vregy_test, dtrv_pred)"
   ]
  },
  {
   "cell_type": "code",
   "execution_count": 130,
   "id": "d1158b30",
   "metadata": {
    "colab": {
     "base_uri": "https://localhost:8080/"
    },
    "executionInfo": {
     "elapsed": 42,
     "status": "ok",
     "timestamp": 1678246079640,
     "user": {
      "displayName": "Rohan Ukkalam",
      "userId": "06420766959062389728"
     },
     "user_tz": 300
    },
    "id": "d1158b30",
    "outputId": "1ac53b53-6ee3-449f-a38e-8371d4f8a489"
   },
   "outputs": [
    {
     "name": "stdout",
     "output_type": "stream",
     "text": [
      "Decision tree regressor accuracy: 0.0\n"
     ]
    }
   ],
   "source": [
    "dtrv_pred1 = dtr_model.predict(vregx_test)\n",
    "dtrv_accuracy = accuracy_score(dtrv_pred1, vregy_test)\n",
    "print(f\"Decision tree regressor accuracy: {dtrv_accuracy}\")"
   ]
  },
  {
   "cell_type": "code",
   "execution_count": 126,
   "id": "d1d2ef7f",
   "metadata": {
    "colab": {
     "base_uri": "https://localhost:8080/"
    },
    "executionInfo": {
     "elapsed": 35,
     "status": "ok",
     "timestamp": 1678246079641,
     "user": {
      "displayName": "Rohan Ukkalam",
      "userId": "06420766959062389728"
     },
     "user_tz": 300
    },
    "id": "d1d2ef7f",
    "outputId": "2dd6c55b-89d8-4b5a-8dc0-8b520266a4de"
   },
   "outputs": [
    {
     "name": "stdout",
     "output_type": "stream",
     "text": [
      "Decision tree classification accuracy: 0.76\n"
     ]
    }
   ],
   "source": [
    "dtcv_pred = dtc_model.predict(vcatx_test)\n",
    "dtc_VAccuracy = accuracy_score(dtcv_pred, vcaty_test)\n",
    "print(f\"Decision tree classification accuracy: {dtc_VAccuracy}\")"
   ]
  },
  {
   "cell_type": "code",
   "execution_count": 127,
   "id": "b8b32af0",
   "metadata": {
    "colab": {
     "base_uri": "https://localhost:8080/"
    },
    "executionInfo": {
     "elapsed": 31,
     "status": "ok",
     "timestamp": 1678246079643,
     "user": {
      "displayName": "Rohan Ukkalam",
      "userId": "06420766959062389728"
     },
     "user_tz": 300
    },
    "id": "b8b32af0",
    "outputId": "7ad1d89a-1e01-4dfc-cf81-477ef970a57f"
   },
   "outputs": [
    {
     "name": "stdout",
     "output_type": "stream",
     "text": [
      "Random Forest accuracy: 0.87\n"
     ]
    }
   ],
   "source": [
    "#rf_model.fit(vcatx_train, vcaty_train)\n",
    "rfv_pred = rf_model.predict(vcatx_test)\n",
    "rf_VAccuracy = accuracy_score(rfv_pred, vcaty_test)\n",
    "print(f\"Random Forest accuracy: {rf_VAccuracy}\")"
   ]
  },
  {
   "cell_type": "code",
   "execution_count": 128,
   "id": "f3c18a5d",
   "metadata": {
    "colab": {
     "base_uri": "https://localhost:8080/"
    },
    "executionInfo": {
     "elapsed": 26,
     "status": "ok",
     "timestamp": 1678246079644,
     "user": {
      "displayName": "Rohan Ukkalam",
      "userId": "06420766959062389728"
     },
     "user_tz": 300
    },
    "id": "f3c18a5d",
    "outputId": "86fa967c-fd7e-4db6-deaf-5fb9ddd9428c"
   },
   "outputs": [
    {
     "name": "stdout",
     "output_type": "stream",
     "text": [
      "Logistic regression accuracy: 0.79\n"
     ]
    }
   ],
   "source": [
    "lrv_pred = lr_model.predict(vcatx_test)\n",
    "lr_VAccuracy = accuracy_score(lrv_pred, vcaty_test)\n",
    "print(f\"Logistic regression accuracy: {lr_VAccuracy}\")"
   ]
  },
  {
   "cell_type": "code",
   "execution_count": 129,
   "id": "tuZ7FC-Z6ZAP",
   "metadata": {
    "executionInfo": {
     "elapsed": 23,
     "status": "ok",
     "timestamp": 1678246079645,
     "user": {
      "displayName": "Rohan Ukkalam",
      "userId": "06420766959062389728"
     },
     "user_tz": 300
    },
    "id": "tuZ7FC-Z6ZAP"
   },
   "outputs": [],
   "source": [
    "def prediction(model, bed, bath, zip, size, date):\n",
    "    dayZero_String = \"2020-01-01\"\n",
    "    dayZero_format = \"%Y-%m-%d\"\n",
    "    dayZero = datetime.datetime.strptime(dayZero_String, dayZero_format)\n",
    "    timedelta = date - dayZero\n",
    "    days_date = timedelta.total_seconds() * 0.00001157\n",
    "\n",
    "    model.fit([bed, bath, zip, size, days_date])"
   ]
  }
 ],
 "metadata": {
  "colab": {
   "provenance": []
  },
  "kernelspec": {
   "display_name": "Python 3 (ipykernel)",
   "language": "python",
   "name": "python3"
  },
  "language_info": {
   "codemirror_mode": {
    "name": "ipython",
    "version": 3
   },
   "file_extension": ".py",
   "mimetype": "text/x-python",
   "name": "python",
   "nbconvert_exporter": "python",
   "pygments_lexer": "ipython3",
   "version": "3.9.13"
  }
 },
 "nbformat": 4,
 "nbformat_minor": 5
}
